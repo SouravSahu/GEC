{
  "nbformat": 4,
  "nbformat_minor": 0,
  "metadata": {
    "colab": {
      "name": "GEC _1.ipynb",
      "version": "0.3.2",
      "provenance": [],
      "collapsed_sections": [
        "1KB_HfkZUL-R"
      ],
      "include_colab_link": true
    },
    "kernelspec": {
      "name": "python3",
      "display_name": "Python 3"
    },
    "accelerator": "GPU"
  },
  "cells": [
    {
      "cell_type": "markdown",
      "metadata": {
        "id": "view-in-github",
        "colab_type": "text"
      },
      "source": [
        "<a href=\"https://colab.research.google.com/github/SouravSahu/GEC/blob/master/GEC__1.ipynb\" target=\"_parent\"><img src=\"https://colab.research.google.com/assets/colab-badge.svg\" alt=\"Open In Colab\"/></a>"
      ]
    },
    {
      "metadata": {
        "id": "FP2wmgRiD4Ov",
        "colab_type": "code",
        "colab": {}
      },
      "cell_type": "code",
      "source": [
        "#!pip install spacy"
      ],
      "execution_count": 0,
      "outputs": []
    },
    {
      "metadata": {
        "id": "uN2IxPYKO9QB",
        "colab_type": "code",
        "outputId": "0e637279-30df-46fb-ee0d-a8762a555c5a",
        "colab": {
          "base_uri": "https://localhost:8080/",
          "height": 120
        }
      },
      "cell_type": "code",
      "source": [
        "from google.colab import drive\n",
        "drive.mount('/content/drive')"
      ],
      "execution_count": 42,
      "outputs": [
        {
          "output_type": "stream",
          "text": [
            "Go to this URL in a browser: https://accounts.google.com/o/oauth2/auth?client_id=947318989803-6bn6qk8qdgf4n4g3pfee6491hc0brc4i.apps.googleusercontent.com&redirect_uri=urn%3Aietf%3Awg%3Aoauth%3A2.0%3Aoob&scope=email%20https%3A%2F%2Fwww.googleapis.com%2Fauth%2Fdocs.test%20https%3A%2F%2Fwww.googleapis.com%2Fauth%2Fdrive%20https%3A%2F%2Fwww.googleapis.com%2Fauth%2Fdrive.photos.readonly%20https%3A%2F%2Fwww.googleapis.com%2Fauth%2Fpeopleapi.readonly&response_type=code\n",
            "\n",
            "Enter your authorization code:\n",
            "··········\n",
            "Mounted at /content/drive\n"
          ],
          "name": "stdout"
        }
      ]
    },
    {
      "metadata": {
        "id": "JhNovB2yfO2V",
        "colab_type": "code",
        "outputId": "585b1223-0e80-4756-aa88-acd0cf44895b",
        "colab": {
          "base_uri": "https://localhost:8080/",
          "height": 83
        }
      },
      "cell_type": "code",
      "source": [
        "!ls"
      ],
      "execution_count": 0,
      "outputs": [
        {
          "output_type": "stream",
          "text": [
            "dev_decoder_in.npy   model.png\t\t    train_encoder_in.npy\n",
            "dev_decoder_out.npy  sample_data\t    wi+locness\n",
            "dev_encoder_in.npy   train_decoder_in.npy   wi+locness_v2.bea19.tar.gz\n",
            "drive\t\t     train_decoder_out.npy\n"
          ],
          "name": "stdout"
        }
      ]
    },
    {
      "metadata": {
        "id": "I5eymMqKqItd",
        "colab_type": "text"
      },
      "cell_type": "markdown",
      "source": [
        "# **Getting Data**"
      ]
    },
    {
      "metadata": {
        "id": "9kUvJZQ8H3ka",
        "colab_type": "code",
        "outputId": "0ac0ccd6-f71c-483e-d935-ad65c7aaea14",
        "colab": {
          "base_uri": "https://localhost:8080/",
          "height": 253
        }
      },
      "cell_type": "code",
      "source": [
        "!python -m spacy download en_core_web_md"
      ],
      "execution_count": 1,
      "outputs": [
        {
          "output_type": "stream",
          "text": [
            "Collecting en_core_web_md==2.0.0 from https://github.com/explosion/spacy-models/releases/download/en_core_web_md-2.0.0/en_core_web_md-2.0.0.tar.gz#egg=en_core_web_md==2.0.0\n",
            "\u001b[?25l  Downloading https://github.com/explosion/spacy-models/releases/download/en_core_web_md-2.0.0/en_core_web_md-2.0.0.tar.gz (120.8MB)\n",
            "\u001b[K    100% |████████████████████████████████| 120.9MB 50.6MB/s \n",
            "\u001b[?25hInstalling collected packages: en-core-web-md\n",
            "  Running setup.py install for en-core-web-md ... \u001b[?25ldone\n",
            "\u001b[?25hSuccessfully installed en-core-web-md-2.0.0\n",
            "\n",
            "\u001b[93m    Linking successful\u001b[0m\n",
            "    /usr/local/lib/python3.6/dist-packages/en_core_web_md -->\n",
            "    /usr/local/lib/python3.6/dist-packages/spacy/data/en_core_web_md\n",
            "\n",
            "    You can now load the model via spacy.load('en_core_web_md')\n",
            "\n"
          ],
          "name": "stdout"
        }
      ]
    },
    {
      "metadata": {
        "id": "gXonRq5QKmn4",
        "colab_type": "code",
        "colab": {}
      },
      "cell_type": "code",
      "source": [
        "import spacy\n",
        "import os\n",
        "import numpy as np"
      ],
      "execution_count": 0,
      "outputs": []
    },
    {
      "metadata": {
        "id": "-nwGcfMrKupc",
        "colab_type": "code",
        "colab": {}
      },
      "cell_type": "code",
      "source": [
        "nlp=spacy.load(\"en_core_web_md\")"
      ],
      "execution_count": 0,
      "outputs": []
    },
    {
      "metadata": {
        "id": "DgHPwwTVZbKn",
        "colab_type": "code",
        "outputId": "405a2cc6-f2e1-401a-c4e1-3549ffb10b35",
        "colab": {
          "base_uri": "https://localhost:8080/",
          "height": 33
        }
      },
      "cell_type": "code",
      "source": [
        "len(nlp.vocab.strings)"
      ],
      "execution_count": 4,
      "outputs": [
        {
          "output_type": "execute_result",
          "data": {
            "text/plain": [
              "1482069"
            ]
          },
          "metadata": {
            "tags": []
          },
          "execution_count": 4
        }
      ]
    },
    {
      "metadata": {
        "id": "X23RGTuKK-Ub",
        "colab_type": "code",
        "outputId": "8284ab99-80c6-42fc-da7b-3e00e64b2758",
        "colab": {
          "base_uri": "https://localhost:8080/",
          "height": 200
        }
      },
      "cell_type": "code",
      "source": [
        "!wget https://www.cl.cam.ac.uk/research/nl/bea2019st/data/wi+locness_v2.bea19.tar.gz"
      ],
      "execution_count": 5,
      "outputs": [
        {
          "output_type": "stream",
          "text": [
            "--2019-04-01 16:50:38--  https://www.cl.cam.ac.uk/research/nl/bea2019st/data/wi+locness_v2.bea19.tar.gz\n",
            "Resolving www.cl.cam.ac.uk (www.cl.cam.ac.uk)... 128.232.0.20, 2a05:b400:110::80:14\n",
            "Connecting to www.cl.cam.ac.uk (www.cl.cam.ac.uk)|128.232.0.20|:443... connected.\n",
            "HTTP request sent, awaiting response... 200 OK\n",
            "Length: 4227978 (4.0M) [application/x-gzip]\n",
            "Saving to: ‘wi+locness_v2.bea19.tar.gz’\n",
            "\n",
            "\r          wi+locnes   0%[                    ]       0  --.-KB/s               \rwi+locness_v2.bea19 100%[===================>]   4.03M  --.-KB/s    in 0.1s    \n",
            "\n",
            "2019-04-01 16:50:38 (36.5 MB/s) - ‘wi+locness_v2.bea19.tar.gz’ saved [4227978/4227978]\n",
            "\n"
          ],
          "name": "stdout"
        }
      ]
    },
    {
      "metadata": {
        "id": "F127_tMHLFY1",
        "colab_type": "code",
        "outputId": "eb3736e0-c2b6-4e3f-aabc-fdbb69327ddf",
        "colab": {
          "base_uri": "https://localhost:8080/",
          "height": 383
        }
      },
      "cell_type": "code",
      "source": [
        "!tar -xvzf wi+locness_v2.bea19.tar.gz"
      ],
      "execution_count": 6,
      "outputs": [
        {
          "output_type": "stream",
          "text": [
            "wi+locness/\n",
            "wi+locness/json_to_m2.py\n",
            "wi+locness/licence.wi.txt\n",
            "wi+locness/readme.txt\n",
            "wi+locness/license.locness.txt\n",
            "wi+locness/json/\n",
            "wi+locness/json/A.dev.json\n",
            "wi+locness/json/A.train.json\n",
            "wi+locness/json/B.dev.json\n",
            "wi+locness/json/B.train.json\n",
            "wi+locness/json/C.dev.json\n",
            "wi+locness/json/C.train.json\n",
            "wi+locness/json/N.dev.json\n",
            "wi+locness/m2/\n",
            "wi+locness/m2/ABCN.dev.gold.bea19.m2\n",
            "wi+locness/m2/A.train.gold.bea19.m2\n",
            "wi+locness/m2/A.dev.gold.bea19.m2\n",
            "wi+locness/m2/B.train.gold.bea19.m2\n",
            "wi+locness/m2/B.dev.gold.bea19.m2\n",
            "wi+locness/m2/C.train.gold.bea19.m2\n",
            "wi+locness/m2/C.dev.gold.bea19.m2\n",
            "wi+locness/m2/N.dev.gold.bea19.m2\n"
          ],
          "name": "stdout"
        }
      ]
    },
    {
      "metadata": {
        "id": "9AGU5LfNOK8q",
        "colab_type": "code",
        "colab": {}
      },
      "cell_type": "code",
      "source": [
        "#import shutil\n",
        "#shutil.copy2('content/wi+locness','drive/My Drive/GEC wi+locness/' )                  #doesn't work"
      ],
      "execution_count": 0,
      "outputs": []
    },
    {
      "metadata": {
        "id": "9_rtsxu1OzdW",
        "colab_type": "code",
        "colab": {}
      },
      "cell_type": "code",
      "source": [
        "m2 = open('wi+locness/m2/A.dev.gold.bea19.m2').read().strip().split('\\n\\n')[0]"
      ],
      "execution_count": 0,
      "outputs": []
    },
    {
      "metadata": {
        "id": "s04-PxokZCmX",
        "colab_type": "code",
        "outputId": "7d36d165-716e-4982-f29d-7205220d5179",
        "colab": {
          "base_uri": "https://localhost:8080/",
          "height": 67
        }
      },
      "cell_type": "code",
      "source": [
        "m2.split('\\n')"
      ],
      "execution_count": 9,
      "outputs": [
        {
          "output_type": "execute_result",
          "data": {
            "text/plain": [
              "['S It \\'s difficult answer at the question \" what are you going to do in the future ? \" if the only one who has to know it is in two minds .',\n",
              " 'A 3 3|||M:VERB:FORM|||to|||REQUIRED|||-NONE-|||0',\n",
              " 'A 4 5|||U:PREP||||||REQUIRED|||-NONE-|||0']"
            ]
          },
          "metadata": {
            "tags": []
          },
          "execution_count": 9
        }
      ]
    },
    {
      "metadata": {
        "id": "Pc0oLgfaZmRO",
        "colab_type": "code",
        "colab": {}
      },
      "cell_type": "code",
      "source": [
        "# Apply the edits of a single annotator to generate the corrected sentences.\n",
        "\n",
        "def corrections(m2_file, out, id=0):\n",
        "\tm2 = open(m2_file).read().strip().split(\"\\n\\n\")\n",
        "\tout = open(out, \"w\")\n",
        "\t# Do not apply edits with these error types\n",
        "\tskip = {\"noop\", \"UNK\", \"Um\"}\n",
        "\t\n",
        "\tfor sent in m2:\n",
        "\t\tsent = sent.split(\"\\n\")\n",
        "\t\tcor_sent = sent[0].split()[1:] # Ignore \"S \"\n",
        "\t\tedits = sent[1:]\n",
        "\t\toffset = 0\n",
        "\t\tfor edit in edits:\n",
        "\t\t\tedit = edit.split(\"|||\")\n",
        "\t\t\tif edit[1] in skip: continue # Ignore certain edits\n",
        "\t\t\tcoder = int(edit[-1])\n",
        "\t\t\tif coder != id: continue # Ignore other coders\n",
        "\t\t\tspan = edit[0].split()[1:] # Ignore \"A \"\n",
        "\t\t\tstart = int(span[0])\n",
        "\t\t\tend = int(span[1])\n",
        "\t\t\tcor = edit[2].split()\n",
        "\t\t\tcor_sent[start+offset:end+offset] = cor\n",
        "\t\t\toffset = offset-(end-start)+len(cor)\n",
        "\t\tout.write(\" \".join(cor_sent)+\"\\n\")"
      ],
      "execution_count": 0,
      "outputs": []
    },
    {
      "metadata": {
        "id": "iBqDmU_HbdVu",
        "colab_type": "code",
        "outputId": "a7caf7ce-3a9a-4aee-a171-8096a40cde84",
        "colab": {
          "base_uri": "https://localhost:8080/",
          "height": 150
        }
      },
      "cell_type": "code",
      "source": [
        "root=\"./wi+locness/m2/\"\n",
        "files=[\"ABCN.dev.gold.bea19\",\"A.train.gold.bea19\",\"A.dev.gold.bea19\",\"B.train.gold.bea19\",\"B.dev.gold.bea19\",\"C.train.gold.bea19\",\"C.dev.gold.bea19\",\"N.dev.gold.bea19\"]\n",
        "\n",
        "for file in files:\n",
        "  m2_file=root+file+\".m2\"\n",
        "  out_file=root+file+\".corrected.txt\"\n",
        "  if os.path.exists(m2_file):\n",
        "    print(\"correcting\",m2_file)\n",
        "    corrections(m2_file,out_file)\n",
        "  else:\n",
        "    print(\"error loading\",m2_file)"
      ],
      "execution_count": 11,
      "outputs": [
        {
          "output_type": "stream",
          "text": [
            "correcting ./wi+locness/m2/ABCN.dev.gold.bea19.m2\n",
            "correcting ./wi+locness/m2/A.train.gold.bea19.m2\n",
            "correcting ./wi+locness/m2/A.dev.gold.bea19.m2\n",
            "correcting ./wi+locness/m2/B.train.gold.bea19.m2\n",
            "correcting ./wi+locness/m2/B.dev.gold.bea19.m2\n",
            "correcting ./wi+locness/m2/C.train.gold.bea19.m2\n",
            "correcting ./wi+locness/m2/C.dev.gold.bea19.m2\n",
            "correcting ./wi+locness/m2/N.dev.gold.bea19.m2\n"
          ],
          "name": "stdout"
        }
      ]
    },
    {
      "metadata": {
        "id": "up5t1OWLbb3k",
        "colab_type": "code",
        "colab": {}
      },
      "cell_type": "code",
      "source": [
        "def in_corr_sentence(m2_file, out_file):\n",
        "  m2 = open(m2_file).read().strip().split(\"\\n\\n\")\n",
        "  out = open(out_file, \"w\")\n",
        "  sentences=[]\n",
        "  for para in m2:\n",
        "    sent = para.split(\"\\n\")[0]\n",
        "    in_cor_sent = sent.split()[1:] # Ignore \"S \"\n",
        "    sentences.append(in_cor_sent)\n",
        "    out.write(\" \".join(in_cor_sent)+\"\\n\")\n",
        "  \n",
        "  return sentences"
      ],
      "execution_count": 0,
      "outputs": []
    },
    {
      "metadata": {
        "id": "FN7MvwPxu5M4",
        "colab_type": "code",
        "outputId": "37e4ba80-ddb8-43ed-8df7-401b75e316cf",
        "colab": {
          "base_uri": "https://localhost:8080/",
          "height": 150
        }
      },
      "cell_type": "code",
      "source": [
        "root=\"./wi+locness/m2/\"\n",
        "files=[\"ABCN.dev.gold.bea19\",\"A.train.gold.bea19\",\"A.dev.gold.bea19\",\"B.train.gold.bea19\",\"B.dev.gold.bea19\",\"C.train.gold.bea19\",\"C.dev.gold.bea19\",\"N.dev.gold.bea19\"]\n",
        "\n",
        "for file in files:\n",
        "  m2_file=root+file+\".m2\"\n",
        "  out_file=root+file+\".incorrect.txt\"\n",
        "  if os.path.exists(m2_file):\n",
        "    print(\"generating data\",m2_file)\n",
        "    in_corr_sentence(m2_file,out_file)\n",
        "  else:\n",
        "    print(\"error loading\",m2_file)"
      ],
      "execution_count": 13,
      "outputs": [
        {
          "output_type": "stream",
          "text": [
            "generating data ./wi+locness/m2/ABCN.dev.gold.bea19.m2\n",
            "generating data ./wi+locness/m2/A.train.gold.bea19.m2\n",
            "generating data ./wi+locness/m2/A.dev.gold.bea19.m2\n",
            "generating data ./wi+locness/m2/B.train.gold.bea19.m2\n",
            "generating data ./wi+locness/m2/B.dev.gold.bea19.m2\n",
            "generating data ./wi+locness/m2/C.train.gold.bea19.m2\n",
            "generating data ./wi+locness/m2/C.dev.gold.bea19.m2\n",
            "generating data ./wi+locness/m2/N.dev.gold.bea19.m2\n"
          ],
          "name": "stdout"
        }
      ]
    },
    {
      "metadata": {
        "id": "3ynELHChZ9FH",
        "colab_type": "text"
      },
      "cell_type": "markdown",
      "source": [
        "# **Generating Train and Dev corpus**\n"
      ]
    },
    {
      "metadata": {
        "id": "4UqVIG9gLn4E",
        "colab_type": "code",
        "outputId": "ff45f453-ffe9-47a7-9657-29a8030de875",
        "colab": {
          "base_uri": "https://localhost:8080/",
          "height": 167
        }
      },
      "cell_type": "code",
      "source": [
        "files=[\"ABCN.dev.gold.bea19.corrected.txt\",\"A.train.gold.bea19.corrected.txt\",\"A.dev.gold.bea19.corrected.txt\",\"B.train.gold.bea19.corrected.txt\",\"B.dev.gold.bea19.corrected.txt\",\"C.train.gold.bea19.corrected.txt\",\"C.dev.gold.bea19.corrected.txt\",\"N.dev.gold.bea19.corrected.txt\"]\n",
        "root=\"./wi+locness/m2/\"\n",
        "corpus=[]\n",
        "\n",
        "for file in files:\n",
        "  with open(root+file) as f:\n",
        "    l=f.read().strip().split('\\n')\n",
        "    print(root+file,len(l))\n",
        "    corpus=corpus+l\n",
        "\n",
        "\n",
        "print(\"corpus\",len(corpus))\n"
      ],
      "execution_count": 14,
      "outputs": [
        {
          "output_type": "stream",
          "text": [
            "./wi+locness/m2/ABCN.dev.gold.bea19.corrected.txt 4384\n",
            "./wi+locness/m2/A.train.gold.bea19.corrected.txt 10493\n",
            "./wi+locness/m2/A.dev.gold.bea19.corrected.txt 1037\n",
            "./wi+locness/m2/B.train.gold.bea19.corrected.txt 13032\n",
            "./wi+locness/m2/B.dev.gold.bea19.corrected.txt 1290\n",
            "./wi+locness/m2/C.train.gold.bea19.corrected.txt 10783\n",
            "./wi+locness/m2/C.dev.gold.bea19.corrected.txt 1069\n",
            "./wi+locness/m2/N.dev.gold.bea19.corrected.txt 988\n",
            "corpus 43076\n"
          ],
          "name": "stdout"
        }
      ]
    },
    {
      "metadata": {
        "id": "yGApOMeQXZLd",
        "colab_type": "code",
        "outputId": "ae23b3e6-7f8a-4b9c-b4ec-69c263f24a17",
        "colab": {
          "base_uri": "https://localhost:8080/",
          "height": 83
        }
      },
      "cell_type": "code",
      "source": [
        "files=[\"A.train.gold.bea19.corrected.txt\",\"B.train.gold.bea19.corrected.txt\",\"C.train.gold.bea19.corrected.txt\"]\n",
        "root=\"./wi+locness/m2/\"\n",
        "train_corr_corpus=[]\n",
        "\n",
        "for file in files:\n",
        "  with open(root+file) as f:\n",
        "    l=f.read().strip().split('\\n')\n",
        "    print(root+file,len(l))\n",
        "    train_corr_corpus=train_corr_corpus+l\n",
        "\n",
        "\n",
        "print(\"train_corr_corpus\",len(train_corr_corpus))"
      ],
      "execution_count": 15,
      "outputs": [
        {
          "output_type": "stream",
          "text": [
            "./wi+locness/m2/A.train.gold.bea19.corrected.txt 10493\n",
            "./wi+locness/m2/B.train.gold.bea19.corrected.txt 13032\n",
            "./wi+locness/m2/C.train.gold.bea19.corrected.txt 10783\n",
            "train_corr_corpus 34308\n"
          ],
          "name": "stdout"
        }
      ]
    },
    {
      "metadata": {
        "id": "Ax-GSj5IaQV_",
        "colab_type": "code",
        "outputId": "5b9e9a88-aac4-42b4-ef61-056ae967a781",
        "colab": {
          "base_uri": "https://localhost:8080/",
          "height": 83
        }
      },
      "cell_type": "code",
      "source": [
        "files=[\"A.train.gold.bea19.incorrect.txt\",\"B.train.gold.bea19.incorrect.txt\",\"C.train.gold.bea19.incorrect.txt\"]\n",
        "root=\"./wi+locness/m2/\"\n",
        "train_incorr_corpus=[]\n",
        "\n",
        "for file in files:\n",
        "  with open(root+file) as f:\n",
        "    l=f.read().strip().split('\\n')\n",
        "    print(root+file,len(l))\n",
        "    train_incorr_corpus=train_incorr_corpus+l\n",
        "\n",
        "\n",
        "print(\"train_incorr_corpus\",len(train_incorr_corpus))"
      ],
      "execution_count": 16,
      "outputs": [
        {
          "output_type": "stream",
          "text": [
            "./wi+locness/m2/A.train.gold.bea19.incorrect.txt 10493\n",
            "./wi+locness/m2/B.train.gold.bea19.incorrect.txt 13032\n",
            "./wi+locness/m2/C.train.gold.bea19.incorrect.txt 10783\n",
            "train_incorr_corpus 34308\n"
          ],
          "name": "stdout"
        }
      ]
    },
    {
      "metadata": {
        "id": "Jl0OJHt3XZOX",
        "colab_type": "code",
        "outputId": "3da4b195-28ea-4e53-fd88-51a13b0956a8",
        "colab": {
          "base_uri": "https://localhost:8080/",
          "height": 83
        }
      },
      "cell_type": "code",
      "source": [
        "files=[\"A.dev.gold.bea19.corrected.txt\",\"B.dev.gold.bea19.corrected.txt\",\"C.dev.gold.bea19.corrected.txt\"]\n",
        "root=\"./wi+locness/m2/\"\n",
        "dev_corr_corpus=[]\n",
        "\n",
        "for file in files:\n",
        "  with open(root+file) as f:\n",
        "    l=f.read().strip().split('\\n')\n",
        "    print(root+file,len(l))\n",
        "    dev_corr_corpus=dev_corr_corpus + l\n",
        "\n",
        "\n",
        "print(\"dev_corr_corpus\",len(dev_corr_corpus))"
      ],
      "execution_count": 17,
      "outputs": [
        {
          "output_type": "stream",
          "text": [
            "./wi+locness/m2/A.dev.gold.bea19.corrected.txt 1037\n",
            "./wi+locness/m2/B.dev.gold.bea19.corrected.txt 1290\n",
            "./wi+locness/m2/C.dev.gold.bea19.corrected.txt 1069\n",
            "dev_corr_corpus 3396\n"
          ],
          "name": "stdout"
        }
      ]
    },
    {
      "metadata": {
        "id": "zWXkVsOhan2H",
        "colab_type": "code",
        "outputId": "947b568d-7d19-4ffc-9dd0-db3d8b109a66",
        "colab": {
          "base_uri": "https://localhost:8080/",
          "height": 83
        }
      },
      "cell_type": "code",
      "source": [
        "files=[\"A.dev.gold.bea19.incorrect.txt\",\"B.dev.gold.bea19.incorrect.txt\",\"C.dev.gold.bea19.incorrect.txt\"]\n",
        "root=\"./wi+locness/m2/\"\n",
        "dev_incorr_corpus=[]\n",
        "\n",
        "for file in files:\n",
        "  with open(root+file) as f:\n",
        "    l=f.read().strip().split('\\n')\n",
        "    print(root+file,len(l))\n",
        "    dev_incorr_corpus=dev_incorr_corpus + l\n",
        "\n",
        "\n",
        "print(\"dev_incorr_corpus\",len(dev_incorr_corpus))"
      ],
      "execution_count": 18,
      "outputs": [
        {
          "output_type": "stream",
          "text": [
            "./wi+locness/m2/A.dev.gold.bea19.incorrect.txt 1037\n",
            "./wi+locness/m2/B.dev.gold.bea19.incorrect.txt 1290\n",
            "./wi+locness/m2/C.dev.gold.bea19.incorrect.txt 1069\n",
            "dev_incorr_corpus 3396\n"
          ],
          "name": "stdout"
        }
      ]
    },
    {
      "metadata": {
        "id": "3NnCRF38fgpn",
        "colab_type": "text"
      },
      "cell_type": "markdown",
      "source": [
        "# **Preprocessing the text**"
      ]
    },
    {
      "metadata": {
        "id": "OUHxJqf0ZK4u",
        "colab_type": "code",
        "colab": {}
      },
      "cell_type": "code",
      "source": [
        "from keras.preprocessing.text import Tokenizer\n",
        "\n",
        "tokenizer=Tokenizer(filters='')\n",
        "tokenizer.fit_on_texts(corpus)"
      ],
      "execution_count": 0,
      "outputs": []
    },
    {
      "metadata": {
        "id": "MdGIYYNJdpOy",
        "colab_type": "code",
        "colab": {}
      },
      "cell_type": "code",
      "source": [
        "vocabulary=[\"#unk#\",\"#start#\",\"#end#\"]"
      ],
      "execution_count": 0,
      "outputs": []
    },
    {
      "metadata": {
        "id": "1oU3GTE2ZLyn",
        "colab_type": "code",
        "colab": {}
      },
      "cell_type": "code",
      "source": [
        "for word in tokenizer.word_index.keys():\n",
        "  vocabulary.append(word)"
      ],
      "execution_count": 0,
      "outputs": []
    },
    {
      "metadata": {
        "id": "ldv4l2V7gIzy",
        "colab_type": "code",
        "colab": {}
      },
      "cell_type": "code",
      "source": [
        "new_tokenizer = Tokenizer(filters='')\n",
        "new_tokenizer.fit_on_texts(vocabulary)"
      ],
      "execution_count": 0,
      "outputs": []
    },
    {
      "metadata": {
        "id": "8JoPd1POv-z-",
        "colab_type": "code",
        "outputId": "40304458-59e5-48da-8a6d-c116d9e4548b",
        "colab": {
          "base_uri": "https://localhost:8080/",
          "height": 16700
        }
      },
      "cell_type": "code",
      "source": [
        "new_tokenizer.word_index"
      ],
      "execution_count": 64,
      "outputs": [
        {
          "output_type": "execute_result",
          "data": {
            "text/plain": [
              "{'#unk#': 1,\n",
              " '#start#': 2,\n",
              " '#end#': 3,\n",
              " '.': 4,\n",
              " ',': 5,\n",
              " 'the': 6,\n",
              " 'to': 7,\n",
              " 'and': 8,\n",
              " 'a': 9,\n",
              " 'i': 10,\n",
              " 'of': 11,\n",
              " 'in': 12,\n",
              " 'is': 13,\n",
              " 'it': 14,\n",
              " 'that': 15,\n",
              " 'you': 16,\n",
              " 'for': 17,\n",
              " 'my': 18,\n",
              " 'are': 19,\n",
              " 'have': 20,\n",
              " 'be': 21,\n",
              " 'with': 22,\n",
              " 'was': 23,\n",
              " 'we': 24,\n",
              " 'this': 25,\n",
              " 'people': 26,\n",
              " 'as': 27,\n",
              " 'on': 28,\n",
              " 'can': 29,\n",
              " 'they': 30,\n",
              " 'not': 31,\n",
              " 'but': 32,\n",
              " 'will': 33,\n",
              " 'he': 34,\n",
              " 'because': 35,\n",
              " 'do': 36,\n",
              " 'there': 37,\n",
              " 'at': 38,\n",
              " \"'s\": 39,\n",
              " 'so': 40,\n",
              " 'more': 41,\n",
              " 'or': 42,\n",
              " 'all': 43,\n",
              " \"n't\": 44,\n",
              " 'by': 45,\n",
              " 'about': 46,\n",
              " 'if': 47,\n",
              " 'their': 48,\n",
              " 'from': 49,\n",
              " 'like': 50,\n",
              " 'time': 51,\n",
              " 'your': 52,\n",
              " '-': 53,\n",
              " 'one': 54,\n",
              " 'would': 55,\n",
              " 'when': 56,\n",
              " '\"': 57,\n",
              " 'very': 58,\n",
              " 'me': 59,\n",
              " 'an': 60,\n",
              " 'our': 61,\n",
              " 'has': 62,\n",
              " 'also': 63,\n",
              " 'some': 64,\n",
              " 'had': 65,\n",
              " 'public': 66,\n",
              " 'which': 67,\n",
              " 'transport': 68,\n",
              " 'am': 69,\n",
              " 'many': 70,\n",
              " 'other': 71,\n",
              " 'them': 72,\n",
              " 'his': 73,\n",
              " 'good': 74,\n",
              " 'think': 75,\n",
              " 'she': 76,\n",
              " 'who': 77,\n",
              " 'could': 78,\n",
              " 'what': 79,\n",
              " 'most': 80,\n",
              " '?': 81,\n",
              " 'lot': 82,\n",
              " 'her': 83,\n",
              " 'life': 84,\n",
              " 'go': 85,\n",
              " 'car': 86,\n",
              " 'should': 87,\n",
              " '!': 88,\n",
              " 'day': 89,\n",
              " 'were': 90,\n",
              " 'only': 91,\n",
              " 'been': 92,\n",
              " 'work': 93,\n",
              " 'years': 94,\n",
              " 'than': 95,\n",
              " 'first': 96,\n",
              " 'want': 97,\n",
              " 'world': 98,\n",
              " 'how': 99,\n",
              " 'up': 100,\n",
              " 'way': 101,\n",
              " 'really': 102,\n",
              " 'new': 103,\n",
              " 'get': 104,\n",
              " 'know': 105,\n",
              " 'best': 106,\n",
              " 'important': 107,\n",
              " 'sport': 108,\n",
              " 'just': 109,\n",
              " 'use': 110,\n",
              " 'make': 111,\n",
              " ':': 112,\n",
              " 'need': 113,\n",
              " 'different': 114,\n",
              " 'us': 115,\n",
              " 'take': 116,\n",
              " 'no': 117,\n",
              " 'always': 118,\n",
              " \"'\": 119,\n",
              " 'after': 120,\n",
              " 'city': 121,\n",
              " 'future': 122,\n",
              " 'well': 123,\n",
              " 'these': 124,\n",
              " 'much': 125,\n",
              " \"'m\": 126,\n",
              " 'every': 127,\n",
              " 'friends': 128,\n",
              " 'things': 129,\n",
              " 'out': 130,\n",
              " 'see': 131,\n",
              " 'even': 132,\n",
              " 'school': 133,\n",
              " 'such': 134,\n",
              " 'find': 135,\n",
              " 'children': 136,\n",
              " 'place': 137,\n",
              " 'love': 138,\n",
              " 'him': 139,\n",
              " 'going': 140,\n",
              " 'did': 141,\n",
              " 'any': 142,\n",
              " 'then': 143,\n",
              " 'where': 144,\n",
              " 'job': 145,\n",
              " 'great': 146,\n",
              " ')': 147,\n",
              " 'family': 148,\n",
              " 'now': 149,\n",
              " 'however': 150,\n",
              " 'english': 151,\n",
              " 'help': 152,\n",
              " 'old': 153,\n",
              " 'own': 154,\n",
              " 'better': 155,\n",
              " '(': 156,\n",
              " 'cars': 157,\n",
              " 'two': 158,\n",
              " 'person': 159,\n",
              " 'money': 160,\n",
              " 'something': 161,\n",
              " 'into': 162,\n",
              " 'last': 163,\n",
              " 'too': 164,\n",
              " 'live': 165,\n",
              " 'made': 166,\n",
              " 'country': 167,\n",
              " 'travel': 168,\n",
              " 'being': 169,\n",
              " 'environment': 170,\n",
              " 'example': 171,\n",
              " 'food': 172,\n",
              " 'another': 173,\n",
              " 'year': 174,\n",
              " 'play': 175,\n",
              " 'experience': 176,\n",
              " 'its': 177,\n",
              " 'same': 178,\n",
              " 'students': 179,\n",
              " 'feel': 180,\n",
              " 'used': 181,\n",
              " 'went': 182,\n",
              " ';': 183,\n",
              " 'travelling': 184,\n",
              " 'long': 185,\n",
              " 'without': 186,\n",
              " 'lives': 187,\n",
              " 'give': 188,\n",
              " 'before': 189,\n",
              " 'since': 190,\n",
              " 'hand': 191,\n",
              " 'home': 192,\n",
              " 'big': 193,\n",
              " 'sports': 194,\n",
              " 'around': 195,\n",
              " 'enjoy': 196,\n",
              " 'able': 197,\n",
              " 'must': 198,\n",
              " 'michael': 199,\n",
              " 'may': 200,\n",
              " 'while': 201,\n",
              " 'still': 202,\n",
              " 'why': 203,\n",
              " 'learn': 204,\n",
              " 'summer': 205,\n",
              " 'problems': 206,\n",
              " 'problem': 207,\n",
              " 'everyone': 208,\n",
              " 'those': 209,\n",
              " 'next': 210,\n",
              " 'say': 211,\n",
              " 'young': 212,\n",
              " 'thing': 213,\n",
              " 'doing': 214,\n",
              " 'dear': 215,\n",
              " 'started': 216,\n",
              " 'town': 217,\n",
              " 'opinion': 218,\n",
              " 'never': 219,\n",
              " 'part': 220,\n",
              " 'working': 221,\n",
              " 'each': 222,\n",
              " 'become': 223,\n",
              " 'hope': 224,\n",
              " 'parents': 225,\n",
              " 'does': 226,\n",
              " 'little': 227,\n",
              " 'course': 228,\n",
              " 'believe': 229,\n",
              " 'everything': 230,\n",
              " 'look': 231,\n",
              " 'using': 232,\n",
              " 'got': 233,\n",
              " 'over': 234,\n",
              " 'nowadays': 235,\n",
              " 'during': 236,\n",
              " 'change': 237,\n",
              " 'care': 238,\n",
              " 'through': 239,\n",
              " 'football': 240,\n",
              " 'said': 241,\n",
              " 'order': 242,\n",
              " 'try': 243,\n",
              " 'house': 244,\n",
              " 'bus': 245,\n",
              " 'although': 246,\n",
              " 'both': 247,\n",
              " 'information': 248,\n",
              " 'language': 249,\n",
              " 'activities': 250,\n",
              " 'places': 251,\n",
              " 'transportation': 252,\n",
              " 'start': 253,\n",
              " 'reason': 254,\n",
              " 'spend': 255,\n",
              " 'come': 256,\n",
              " 'countries': 257,\n",
              " 'looking': 258,\n",
              " 'shopping': 259,\n",
              " 'having': 260,\n",
              " 'finally': 261,\n",
              " 'happy': 262,\n",
              " 'fact': 263,\n",
              " 'writing': 264,\n",
              " 'improve': 265,\n",
              " 'hard': 266,\n",
              " 'beautiful': 267,\n",
              " 'called': 268,\n",
              " 'favourite': 269,\n",
              " 'between': 270,\n",
              " 'learning': 271,\n",
              " 'keep': 272,\n",
              " 'visit': 273,\n",
              " 'kind': 274,\n",
              " 'main': 275,\n",
              " 'few': 276,\n",
              " 'skills': 277,\n",
              " 'famous': 278,\n",
              " 'makes': 279,\n",
              " 'fun': 280,\n",
              " 'soon': 281,\n",
              " 'number': 282,\n",
              " 'technology': 283,\n",
              " 'university': 284,\n",
              " 'three': 285,\n",
              " 'back': 286,\n",
              " 'team': 287,\n",
              " 'sometimes': 288,\n",
              " 'means': 289,\n",
              " 'tv': 290,\n",
              " 'today': 291,\n",
              " 'high': 292,\n",
              " 'water': 293,\n",
              " 'playing': 294,\n",
              " 'television': 295,\n",
              " 'friend': 296,\n",
              " 'small': 297,\n",
              " 'idea': 298,\n",
              " 'enough': 299,\n",
              " 'society': 300,\n",
              " 'convenient': 301,\n",
              " 'watch': 302,\n",
              " 'ca': 303,\n",
              " 'addition': 304,\n",
              " 'restaurant': 305,\n",
              " 'choose': 306,\n",
              " 'knew': 307,\n",
              " 'moment': 308,\n",
              " 'bad': 309,\n",
              " 'right': 310,\n",
              " 'others': 311,\n",
              " 'buy': 312,\n",
              " 'days': 313,\n",
              " 'free': 314,\n",
              " 'especially': 315,\n",
              " 'here': 316,\n",
              " 'tell': 317,\n",
              " 'film': 318,\n",
              " 'private': 319,\n",
              " 'music': 320,\n",
              " 'thought': 321,\n",
              " 'name': 322,\n",
              " 'might': 323,\n",
              " 'therefore': 324,\n",
              " 'difficult': 325,\n",
              " 'pollution': 326,\n",
              " 'saw': 327,\n",
              " 'second': 328,\n",
              " 'less': 329,\n",
              " 'study': 330,\n",
              " 'end': 331,\n",
              " 'again': 332,\n",
              " 'let': 333,\n",
              " 'possible': 334,\n",
              " 'week': 335,\n",
              " 'usually': 336,\n",
              " 'taking': 337,\n",
              " 'found': 338,\n",
              " \"'ll\": 339,\n",
              " 'forward': 340,\n",
              " 'education': 341,\n",
              " 'mother': 342,\n",
              " 'living': 343,\n",
              " 'traffic': 344,\n",
              " 'knowledge': 345,\n",
              " 'swimming': 346,\n",
              " 'man': 347,\n",
              " 'reasons': 348,\n",
              " 'door': 349,\n",
              " 'cities': 350,\n",
              " 'interesting': 351,\n",
              " 'meet': 352,\n",
              " 'recommend': 353,\n",
              " 'often': 354,\n",
              " 'internet': 355,\n",
              " 'decided': 356,\n",
              " 'health': 357,\n",
              " 'special': 358,\n",
              " 'ever': 359,\n",
              " 'read': 360,\n",
              " 'prefer': 361,\n",
              " 'away': 362,\n",
              " 'conclusion': 363,\n",
              " 'someone': 364,\n",
              " 'ago': 365,\n",
              " 'easy': 366,\n",
              " 'train': 367,\n",
              " 'talk': 368,\n",
              " 'hours': 369,\n",
              " 'government': 370,\n",
              " 'understand': 371,\n",
              " 'comfortable': 372,\n",
              " 'whole': 373,\n",
              " 'put': 374,\n",
              " 'together': 375,\n",
              " 'night': 376,\n",
              " 'mind': 377,\n",
              " 'off': 378,\n",
              " 'making': 379,\n",
              " 'sure': 380,\n",
              " 'opportunity': 381,\n",
              " 'times': 382,\n",
              " 'point': 383,\n",
              " 'took': 384,\n",
              " 'system': 385,\n",
              " 'maybe': 386,\n",
              " 'service': 387,\n",
              " 'getting': 388,\n",
              " 'energy': 389,\n",
              " '...': 390,\n",
              " 'interested': 391,\n",
              " 'true': 392,\n",
              " 'down': 393,\n",
              " 'once': 394,\n",
              " 'stop': 395,\n",
              " 'quite': 396,\n",
              " 'told': 397,\n",
              " 'human': 398,\n",
              " 'wanted': 399,\n",
              " 'social': 400,\n",
              " 'far': 401,\n",
              " 'eat': 402,\n",
              " \"'ve\": 403,\n",
              " 'game': 404,\n",
              " 'body': 405,\n",
              " 'expensive': 406,\n",
              " 'show': 407,\n",
              " 'story': 408,\n",
              " 'teacher': 409,\n",
              " 'fast': 410,\n",
              " 'myself': 411,\n",
              " 'class': 412,\n",
              " 'face': 413,\n",
              " 'clothes': 414,\n",
              " 'near': 415,\n",
              " 'computer': 416,\n",
              " 'felt': 417,\n",
              " 'yours': 418,\n",
              " 'running': 419,\n",
              " 'room': 420,\n",
              " 'almost': 421,\n",
              " 'movie': 422,\n",
              " 'group': 423,\n",
              " 'chance': 424,\n",
              " 'moreover': 425,\n",
              " 'anything': 426,\n",
              " 'pay': 427,\n",
              " 'popular': 428,\n",
              " 'quality': 429,\n",
              " 'instead': 430,\n",
              " 'watching': 431,\n",
              " 'though': 432,\n",
              " 'favorite': 433,\n",
              " 'computers': 434,\n",
              " 'nice': 435,\n",
              " 'studying': 436,\n",
              " 'several': 437,\n",
              " 'consider': 438,\n",
              " 'came': 439,\n",
              " 'due': 440,\n",
              " 'known': 441,\n",
              " 'clean': 442,\n",
              " 'speak': 443,\n",
              " 'needs': 444,\n",
              " 'past': 445,\n",
              " 'waste': 446,\n",
              " 'ways': 447,\n",
              " 'morning': 448,\n",
              " 'result': 449,\n",
              " 'local': 450,\n",
              " 'seen': 451,\n",
              " 'company': 452,\n",
              " 'modern': 453,\n",
              " 'situation': 454,\n",
              " 'book': 455,\n",
              " 'view': 456,\n",
              " 'area': 457,\n",
              " 'girl': 458,\n",
              " 'air': 459,\n",
              " 'thinking': 460,\n",
              " 'agree': 461,\n",
              " 'already': 462,\n",
              " 'easily': 463,\n",
              " 'necessary': 464,\n",
              " 'etc': 465,\n",
              " 'least': 466,\n",
              " 'real': 467,\n",
              " 'changed': 468,\n",
              " 'child': 469,\n",
              " 'worked': 470,\n",
              " 'lots': 471,\n",
              " 'whether': 472,\n",
              " 'culture': 473,\n",
              " 'firstly': 474,\n",
              " 'buses': 475,\n",
              " 'remember': 476,\n",
              " 'useful': 477,\n",
              " 'camp': 478,\n",
              " 'international': 479,\n",
              " 'save': 480,\n",
              " 'secondly': 481,\n",
              " 'history': 482,\n",
              " 'games': 483,\n",
              " 'later': 484,\n",
              " \"'re\": 485,\n",
              " 'asked': 486,\n",
              " 'healthy': 487,\n",
              " 'everybody': 488,\n",
              " 'kids': 489,\n",
              " 'large': 490,\n",
              " 'trip': 491,\n",
              " 'kinds': 492,\n",
              " 'increase': 493,\n",
              " 'write': 494,\n",
              " 'age': 495,\n",
              " 'development': 496,\n",
              " 'actually': 497,\n",
              " 'helps': 498,\n",
              " 'until': 499,\n",
              " 'books': 500,\n",
              " 'advice': 501,\n",
              " 'personal': 502,\n",
              " 'full': 503,\n",
              " 'amazing': 504,\n",
              " 'hear': 505,\n",
              " 'probably': 506,\n",
              " 'perfect': 507,\n",
              " 'looked': 508,\n",
              " 'cause': 509,\n",
              " 'reading': 510,\n",
              " 'besides': 511,\n",
              " 'daily': 512,\n",
              " 'months': 513,\n",
              " 'stay': 514,\n",
              " 'shops': 515,\n",
              " 'rubbish': 516,\n",
              " 'father': 517,\n",
              " 'dream': 518,\n",
              " 'areas': 519,\n",
              " 'run': 520,\n",
              " 'park': 521,\n",
              " 'animals': 522,\n",
              " 'building': 523,\n",
              " 'bank': 524,\n",
              " 'europe': 525,\n",
              " 'ones': 526,\n",
              " 'process': 527,\n",
              " 'huge': 528,\n",
              " 'walk': 529,\n",
              " 'friendly': 530,\n",
              " 'shows': 531,\n",
              " 'concert': 532,\n",
              " 'types': 533,\n",
              " 'centre': 534,\n",
              " 'natural': 535,\n",
              " 'rather': 536,\n",
              " 'given': 537,\n",
              " 'research': 538,\n",
              " 'thank': 539,\n",
              " 'wo': 540,\n",
              " 'student': 541,\n",
              " 'news': 542,\n",
              " 'walking': 543,\n",
              " 'talking': 544,\n",
              " 'letter': 545,\n",
              " 'closed': 546,\n",
              " 'wait': 547,\n",
              " 'suitable': 548,\n",
              " 'exercise': 549,\n",
              " 'attention': 550,\n",
              " 'advantages': 551,\n",
              " 'women': 552,\n",
              " 'role': 553,\n",
              " '2': 554,\n",
              " 'basketball': 555,\n",
              " 'words': 556,\n",
              " 'tom': 557,\n",
              " 'furthermore': 558,\n",
              " 'played': 559,\n",
              " 'mistake': 560,\n",
              " 'leave': 561,\n",
              " 'taken': 562,\n",
              " 'themselves': 563,\n",
              " 'level': 564,\n",
              " 'forget': 565,\n",
              " 'notes': 566,\n",
              " 'position': 567,\n",
              " 'done': 568,\n",
              " 'trying': 569,\n",
              " 'brother': 570,\n",
              " 'easier': 571,\n",
              " 'present': 572,\n",
              " \"'d\": 573,\n",
              " 'drive': 574,\n",
              " 'weather': 575,\n",
              " 'bit': 576,\n",
              " 'hi': 577,\n",
              " 'considered': 578,\n",
              " 'case': 579,\n",
              " 'sir': 580,\n",
              " 'products': 581,\n",
              " '/': 582,\n",
              " 'club': 583,\n",
              " 'support': 584,\n",
              " 'seems': 585,\n",
              " 'heard': 586,\n",
              " 'peter': 587,\n",
              " 'open': 588,\n",
              " 'recently': 589,\n",
              " 'foreign': 590,\n",
              " 'activity': 591,\n",
              " 'studies': 592,\n",
              " 'global': 593,\n",
              " 'please': 594,\n",
              " 'faster': 595,\n",
              " 'village': 596,\n",
              " 'choice': 597,\n",
              " 'members': 598,\n",
              " 'green': 599,\n",
              " 'gives': 600,\n",
              " 'provide': 601,\n",
              " 'tried': 602,\n",
              " 'waiting': 603,\n",
              " 'answer': 604,\n",
              " 'sister': 605,\n",
              " 'power': 606,\n",
              " 'ask': 607,\n",
              " 'common': 608,\n",
              " 'immediately': 609,\n",
              " 'driving': 610,\n",
              " 'space': 611,\n",
              " 'cost': 612,\n",
              " 'benefits': 613,\n",
              " 'deal': 614,\n",
              " 'advertisement': 615,\n",
              " 'per': 616,\n",
              " 'set': 617,\n",
              " 'spain': 618,\n",
              " 'price': 619,\n",
              " 'movies': 620,\n",
              " 'matter': 621,\n",
              " 'hearing': 622,\n",
              " 'business': 623,\n",
              " 'left': 624,\n",
              " 'languages': 625,\n",
              " 'following': 626,\n",
              " 'changes': 627,\n",
              " 'wonderful': 628,\n",
              " 'nothing': 629,\n",
              " 'yourself': 630,\n",
              " 'month': 631,\n",
              " 'feeling': 632,\n",
              " 'above': 633,\n",
              " 'tennis': 634,\n",
              " 'faithfully': 635,\n",
              " 'teachers': 636,\n",
              " 'amount': 637,\n",
              " 'follow': 638,\n",
              " 'positive': 639,\n",
              " 'communication': 640,\n",
              " 'sheets': 641,\n",
              " 'woman': 642,\n",
              " 'instance': 643,\n",
              " 'reduce': 644,\n",
              " 'against': 645,\n",
              " 'apply': 646,\n",
              " 'states': 647,\n",
              " 'street': 648,\n",
              " 'takes': 649,\n",
              " 'definitely': 650,\n",
              " 'nature': 651,\n",
              " 'science': 652,\n",
              " 'strong': 653,\n",
              " 'national': 654,\n",
              " 'front': 655,\n",
              " 'happened': 656,\n",
              " 'teaching': 657,\n",
              " 'alone': 658,\n",
              " 'century': 659,\n",
              " 'needed': 660,\n",
              " 'boy': 661,\n",
              " 'coming': 662,\n",
              " 'eating': 663,\n",
              " 'four': 664,\n",
              " 'art': 665,\n",
              " 'develop': 666,\n",
              " 'physical': 667,\n",
              " 'imagine': 668,\n",
              " 'professional': 669,\n",
              " 'report': 670,\n",
              " 'citizens': 671,\n",
              " 'dangerous': 672,\n",
              " 'based': 673,\n",
              " 'companies': 674,\n",
              " 'late': 675,\n",
              " 'outside': 676,\n",
              " 'minutes': 677,\n",
              " 'short': 678,\n",
              " 'facilities': 679,\n",
              " 'according': 680,\n",
              " 'educational': 681,\n",
              " 'suddenly': 682,\n",
              " 'american': 683,\n",
              " 'move': 684,\n",
              " 'comes': 685,\n",
              " 'population': 686,\n",
              " 'increasing': 687,\n",
              " 'general': 688,\n",
              " 'option': 689,\n",
              " 'sea': 690,\n",
              " 'share': 691,\n",
              " 'avoid': 692,\n",
              " 'teach': 693,\n",
              " 'step': 694,\n",
              " 'sum': 695,\n",
              " 'classes': 696,\n",
              " 'contact': 697,\n",
              " 'ideas': 698,\n",
              " 'streets': 699,\n",
              " 'quickly': 700,\n",
              " 'speaking': 701,\n",
              " 'beach': 702,\n",
              " 'cheaper': 703,\n",
              " 'happen': 704,\n",
              " 'plan': 705,\n",
              " 'single': 706,\n",
              " 'available': 707,\n",
              " 'completely': 708,\n",
              " 'create': 709,\n",
              " 'period': 710,\n",
              " 'rest': 711,\n",
              " 'wants': 712,\n",
              " 'importance': 713,\n",
              " 'plane': 714,\n",
              " 'became': 715,\n",
              " 'anyone': 716,\n",
              " 'usa': 717,\n",
              " 'hotel': 718,\n",
              " 'road': 719,\n",
              " 'inside': 720,\n",
              " 'cooking': 721,\n",
              " 'becoming': 722,\n",
              " 'humans': 723,\n",
              " 'control': 724,\n",
              " 'developed': 725,\n",
              " 'college': 726,\n",
              " 'earth': 727,\n",
              " 'offer': 728,\n",
              " 'environmental': 729,\n",
              " '50': 730,\n",
              " 'met': 731,\n",
              " 'simple': 732,\n",
              " 'phone': 733,\n",
              " 'question': 734,\n",
              " 'thanks': 735,\n",
              " 'jobs': 736,\n",
              " '1': 737,\n",
              " 'beginning': 738,\n",
              " 'training': 739,\n",
              " 'located': 740,\n",
              " '3': 741,\n",
              " 'arrived': 742,\n",
              " 'issues': 743,\n",
              " 'trains': 744,\n",
              " 'camps': 745,\n",
              " 'self': 746,\n",
              " '5': 747,\n",
              " 'under': 748,\n",
              " 'spanish': 749,\n",
              " 'exam': 750,\n",
              " 'type': 751,\n",
              " 'eyes': 752,\n",
              " 'journey': 753,\n",
              " 'ability': 754,\n",
              " 'close': 755,\n",
              " 'field': 756,\n",
              " 'certain': 757,\n",
              " 'continue': 758,\n",
              " 'community': 759,\n",
              " 'wrong': 760,\n",
              " 'schools': 761,\n",
              " 'exciting': 762,\n",
              " 'excellent': 763,\n",
              " 'call': 764,\n",
              " 'among': 765,\n",
              " 'responsible': 766,\n",
              " 'related': 767,\n",
              " 'starting': 768,\n",
              " 'gave': 769,\n",
              " 'madam': 770,\n",
              " 'events': 771,\n",
              " 'office': 772,\n",
              " 'despite': 773,\n",
              " 'rules': 774,\n",
              " 'light': 775,\n",
              " 'disadvantages': 776,\n",
              " 'safe': 777,\n",
              " 'competition': 778,\n",
              " 'mobile': 779,\n",
              " 'houses': 780,\n",
              " 'center': 781,\n",
              " 'decision': 782,\n",
              " 'programs': 783,\n",
              " 'relax': 784,\n",
              " 'bring': 785,\n",
              " 'abroad': 786,\n",
              " 'lived': 787,\n",
              " 'vehicles': 788,\n",
              " 'hello': 789,\n",
              " 'opened': 790,\n",
              " 'pool': 791,\n",
              " 'goes': 792,\n",
              " 'heart': 793,\n",
              " 'serious': 794,\n",
              " 'player': 795,\n",
              " 'cook': 796,\n",
              " 'further': 797,\n",
              " 'aware': 798,\n",
              " 'questions': 799,\n",
              " 'soccer': 800,\n",
              " 'finished': 801,\n",
              " 'spent': 802,\n",
              " '10': 803,\n",
              " 'entertainment': 804,\n",
              " 'relationship': 805,\n",
              " 'planet': 806,\n",
              " 'created': 807,\n",
              " 'media': 808,\n",
              " 'characters': 809,\n",
              " 'particular': 810,\n",
              " 'five': 811,\n",
              " 'third': 812,\n",
              " 'european': 813,\n",
              " 'solve': 814,\n",
              " 'evening': 815,\n",
              " 'buildings': 816,\n",
              " 'unfortunately': 817,\n",
              " 'players': 818,\n",
              " 'hour': 819,\n",
              " 'longer': 820,\n",
              " 'services': 821,\n",
              " 'protect': 822,\n",
              " 'effects': 823,\n",
              " 'loved': 824,\n",
              " 'various': 825,\n",
              " 'seeing': 826,\n",
              " 'lost': 827,\n",
              " 'atmosphere': 828,\n",
              " 'caused': 829,\n",
              " 'war': 830,\n",
              " 'interest': 831,\n",
              " 'market': 832,\n",
              " 'economic': 833,\n",
              " 'helped': 834,\n",
              " 'statement': 835,\n",
              " 'negative': 836,\n",
              " 'along': 837,\n",
              " 'seem': 838,\n",
              " 'resources': 839,\n",
              " 'warming': 840,\n",
              " 'issue': 841,\n",
              " 'party': 842,\n",
              " 'lack': 843,\n",
              " 'towards': 844,\n",
              " 'customers': 845,\n",
              " 'lose': 846,\n",
              " 'holidays': 847,\n",
              " 'normal': 848,\n",
              " 'compared': 849,\n",
              " 'older': 850,\n",
              " 'meeting': 851,\n",
              " 'side': 852,\n",
              " 'italy': 853,\n",
              " 'united': 854,\n",
              " 'achieve': 855,\n",
              " 'including': 856,\n",
              " 'london': 857,\n",
              " 'turn': 858,\n",
              " 'tourists': 859,\n",
              " 'restaurants': 860,\n",
              " 'station': 861,\n",
              " 'men': 862,\n",
              " 'points': 863,\n",
              " 'communicate': 864,\n",
              " 'trees': 865,\n",
              " 'began': 866,\n",
              " 'top': 867,\n",
              " 'early': 868,\n",
              " 'fit': 869,\n",
              " 'design': 870,\n",
              " 'impossible': 871,\n",
              " 'cheap': 872,\n",
              " 'aspects': 873,\n",
              " 'sleep': 874,\n",
              " 'museum': 875,\n",
              " 'drink': 876,\n",
              " 'cold': 877,\n",
              " 'traditional': 878,\n",
              " 'project': 879,\n",
              " 'saying': 880,\n",
              " 'action': 881,\n",
              " 'ten': 882,\n",
              " 'learned': 883,\n",
              " 'works': 884,\n",
              " 'red': 885,\n",
              " 'essential': 886,\n",
              " 'clear': 887,\n",
              " 'visiting': 888,\n",
              " 'changing': 889,\n",
              " 'destination': 890,\n",
              " 'fresh': 891,\n",
              " 'recent': 892,\n",
              " 'excited': 893,\n",
              " 'films': 894,\n",
              " 'enjoyable': 895,\n",
              " 'suggest': 896,\n",
              " 'variety': 897,\n",
              " 'yes': 898,\n",
              " 'lead': 899,\n",
              " 'cinema': 900,\n",
              " 'kitchen': 901,\n",
              " 'experiences': 902,\n",
              " 'sense': 903,\n",
              " 'beef': 904,\n",
              " 'britain': 905,\n",
              " 'paper': 906,\n",
              " 'causes': 907,\n",
              " 'goal': 908,\n",
              " 'mean': 909,\n",
              " 'law': 910,\n",
              " 'concerned': 911,\n",
              " 'career': 912,\n",
              " 'facebook': 913,\n",
              " 'explain': 914,\n",
              " 'liked': 915,\n",
              " 'tired': 916,\n",
              " 'advantage': 917,\n",
              " 'begin': 918,\n",
              " 'thus': 919,\n",
              " 'roads': 920,\n",
              " 'impact': 921,\n",
              " 'historical': 922,\n",
              " 'built': 923,\n",
              " 'jams': 924,\n",
              " 'behind': 925,\n",
              " 'helping': 926,\n",
              " 'possibility': 927,\n",
              " 'cultures': 928,\n",
              " 'offers': 929,\n",
              " 'feelings': 930,\n",
              " 'recycling': 931,\n",
              " 'situations': 932,\n",
              " 'apart': 933,\n",
              " 'worth': 934,\n",
              " 'efficient': 935,\n",
              " 'individual': 936,\n",
              " 'ball': 937,\n",
              " 'enjoyed': 938,\n",
              " 'test': 939,\n",
              " 'cultural': 940,\n",
              " 'program': 941,\n",
              " 'subject': 942,\n",
              " '6': 943,\n",
              " 'build': 944,\n",
              " 'degree': 945,\n",
              " 'regards': 946,\n",
              " 'british': 947,\n",
              " 'turned': 948,\n",
              " 'similar': 949,\n",
              " 'effort': 950,\n",
              " 'results': 951,\n",
              " 'practise': 952,\n",
              " 'taught': 953,\n",
              " 'aim': 954,\n",
              " 'anyway': 955,\n",
              " 'funny': 956,\n",
              " 'improved': 957,\n",
              " 'low': 958,\n",
              " 'girls': 959,\n",
              " 'sad': 960,\n",
              " 'earn': 961,\n",
              " 'solution': 962,\n",
              " 'teenagers': 963,\n",
              " 'head': 964,\n",
              " 'yet': 965,\n",
              " 'major': 966,\n",
              " 'poor': 967,\n",
              " 'wide': 968,\n",
              " 'black': 969,\n",
              " 'weeks': 970,\n",
              " 'industry': 971,\n",
              " 'afford': 972,\n",
              " 'cafe': 973,\n",
              " 'police': 974,\n",
              " 'written': 975,\n",
              " 'focus': 976,\n",
              " 'style': 977,\n",
              " 'prices': 978,\n",
              " 'holiday': 979,\n",
              " 'literature': 980,\n",
              " 'nevertheless': 981,\n",
              " 'parts': 982,\n",
              " 'shop': 983,\n",
              " 'younger': 984,\n",
              " 'everywhere': 985,\n",
              " 'born': 986,\n",
              " 'sales': 987,\n",
              " 'prepared': 988,\n",
              " 'lessons': 989,\n",
              " 'range': 990,\n",
              " 'helpful': 991,\n",
              " 'courses': 992,\n",
              " 'else': 993,\n",
              " 'cases': 994,\n",
              " 'visited': 995,\n",
              " 'plays': 996,\n",
              " 'underground': 997,\n",
              " 'listen': 998,\n",
              " 'nobody': 999,\n",
              " 'dark': 1000,\n",
              " ...}"
            ]
          },
          "metadata": {
            "tags": []
          },
          "execution_count": 64
        }
      ]
    },
    {
      "metadata": {
        "id": "QaMeMgMSqxpO",
        "colab_type": "code",
        "outputId": "663e19df-26cb-48c3-fca8-17e183c51c76",
        "colab": {
          "base_uri": "https://localhost:8080/",
          "height": 50
        }
      },
      "cell_type": "code",
      "source": [
        "print ('tokenizer len = ', len(tokenizer.word_index))\n",
        "print ('new_tokenizer len = ', len(new_tokenizer.word_index))"
      ],
      "execution_count": 65,
      "outputs": [
        {
          "output_type": "stream",
          "text": [
            "tokenizer len =  19598\n",
            "new_tokenizer len =  19601\n"
          ],
          "name": "stdout"
        }
      ]
    },
    {
      "metadata": {
        "id": "k9Nvfaddwf-P",
        "colab_type": "code",
        "outputId": "35178555-bb70-40fd-a830-0df5c4319cc6",
        "colab": {
          "base_uri": "https://localhost:8080/",
          "height": 33
        }
      },
      "cell_type": "code",
      "source": [
        "vocab_len=len(new_tokenizer.word_index)\n",
        "print(vocab_len)"
      ],
      "execution_count": 66,
      "outputs": [
        {
          "output_type": "stream",
          "text": [
            "19601\n"
          ],
          "name": "stdout"
        }
      ]
    },
    {
      "metadata": {
        "id": "1QsbzAIkyNMi",
        "colab_type": "code",
        "colab": {}
      },
      "cell_type": "code",
      "source": [
        "from keras.preprocessing.sequence import pad_sequences"
      ],
      "execution_count": 0,
      "outputs": []
    },
    {
      "metadata": {
        "id": "anGwPdbJ-94H",
        "colab_type": "code",
        "colab": {}
      },
      "cell_type": "code",
      "source": [
        "vocab = new_tokenizer.word_index"
      ],
      "execution_count": 0,
      "outputs": []
    },
    {
      "metadata": {
        "id": "kUBCH14twylc",
        "colab_type": "code",
        "colab": {}
      },
      "cell_type": "code",
      "source": [
        "\n",
        "def to_indices_X(sentences):\n",
        "  indices=[]\n",
        "  count=0\n",
        "  for sentence in sentences:\n",
        "    index=[]\n",
        "    index.append(vocab[\"#start#\"])\n",
        "    \n",
        "    for i in list(nlp(sentence.lower())):\n",
        "      if i.text in vocab.keys():\n",
        "        #print(i.text,type(i.text))\n",
        "        index.append(vocab[i.text])\n",
        "      else:\n",
        "        #print(\"unknown encountered\")\n",
        "        index.append(vocab[\"#unk#\"])\n",
        "    index.append(vocab[\"#end#\"])\n",
        "    indices.append(index)\n",
        "    count=count+1\n",
        "    print(count, end=\" \")\n",
        "  return indices\n",
        "    "
      ],
      "execution_count": 0,
      "outputs": []
    },
    {
      "metadata": {
        "id": "R1w38BNy_AJt",
        "colab_type": "code",
        "colab": {}
      },
      "cell_type": "code",
      "source": [
        "def to_indices_Y(sentences):\n",
        "  indices=[]\n",
        "  count=0\n",
        "  for sentence in sentences:\n",
        "    index=[]\n",
        "    \n",
        "    for i in list(nlp(sentence.lower())):\n",
        "      if i.text in vocab.keys():\n",
        "        #print(i.text,type(i.text))\n",
        "        index.append(vocab[i.text])\n",
        "      else:\n",
        "        #print(\"unknown encountered\")\n",
        "        index.append(vocab[\"#unk#\"])\n",
        "    index.append(vocab[\"#end#\"])\n",
        "    indices.append(index)\n",
        "    count=count+1\n",
        "    print(count, end=\" \")\n",
        "  return indices"
      ],
      "execution_count": 0,
      "outputs": []
    },
    {
      "metadata": {
        "id": "d3ac-okywLMT",
        "colab_type": "code",
        "outputId": "277b24d2-ae0b-479c-a344-c7afa57fee41",
        "colab": {
          "base_uri": "https://localhost:8080/",
          "height": 33
        }
      },
      "cell_type": "code",
      "source": [
        "to_indices_Y([\"get every one\", \"# bro\"])"
      ],
      "execution_count": 71,
      "outputs": [
        {
          "output_type": "stream",
          "text": [
            "1 2 "
          ],
          "name": "stdout"
        },
        {
          "output_type": "execute_result",
          "data": {
            "text/plain": [
              "[[104, 127, 54, 3], [2650, 10682, 3]]"
            ]
          },
          "metadata": {
            "tags": []
          },
          "execution_count": 71
        }
      ]
    },
    {
      "metadata": {
        "id": "uzhGWVRJ25OL",
        "colab_type": "code",
        "colab": {}
      },
      "cell_type": "code",
      "source": [
        "def find_max_len(corpus):\n",
        "  max=0\n",
        "  for sentence in corpus:\n",
        "    if (max<len(sentence.split())):\n",
        "      max=len(sentence.split())\n",
        "  return max\n",
        "def count(corpus):\n",
        "  ref=50\n",
        "  for sentence in corpus:\n",
        "    if (ref<len(sentence.split())):\n",
        "      re= ref+1\n",
        "  return max"
      ],
      "execution_count": 0,
      "outputs": []
    },
    {
      "metadata": {
        "id": "0pwqFDvzTZj2",
        "colab_type": "code",
        "colab": {}
      },
      "cell_type": "code",
      "source": [
        "from keras.preprocessing.sequence import pad_sequences\n",
        "\n",
        "def pad_seq(corpus,max_len):\n",
        "  corpus=pad_sequences(corpus,maxlen=max_len,truncating=\"post\",padding=\"post\")\n",
        "  return corpus"
      ],
      "execution_count": 0,
      "outputs": []
    },
    {
      "metadata": {
        "id": "eb0dqjrjP_8y",
        "colab_type": "text"
      },
      "cell_type": "markdown",
      "source": [
        "# **Data Processing and saving**"
      ]
    },
    {
      "metadata": {
        "id": "E56PICxhSKEr",
        "colab_type": "code",
        "colab": {}
      },
      "cell_type": "code",
      "source": [
        "X_train = pad_seq(to_indices_X(train_incorr_corpus), 46)"
      ],
      "execution_count": 0,
      "outputs": []
    },
    {
      "metadata": {
        "id": "S5OWhuyItMXL",
        "colab_type": "code",
        "colab": {}
      },
      "cell_type": "code",
      "source": [
        "Y_train = pad_seq(to_indices_Y(train_corr_corpus), 48)"
      ],
      "execution_count": 0,
      "outputs": []
    },
    {
      "metadata": {
        "id": "NOEMyODotMbN",
        "colab_type": "code",
        "outputId": "43638ebb-ee7f-466d-fea1-a864a662bbe7",
        "colab": {
          "base_uri": "https://localhost:8080/"
        }
      },
      "cell_type": "code",
      "source": [
        "X_dev = pad_seq(to_indices_X(dev_incorr_corpus), 46)"
      ],
      "execution_count": 0,
      "outputs": [
        {
          "output_type": "stream",
          "text": [
            "1 2 3 4 5 6 7 8 9 10 11 12 13 14 15 16 17 18 19 20 21 22 23 24 25 26 27 28 29 30 31 32 33 34 35 36 37 38 39 40 41 42 43 44 45 46 47 48 49 50 51 52 53 54 55 56 57 58 59 60 61 62 63 64 65 66 67 68 69 70 71 72 73 74 75 76 77 78 79 80 81 82 83 84 85 86 87 88 89 90 91 92 93 94 95 96 97 98 99 100 101 102 103 104 105 106 107 108 109 110 111 112 113 114 115 116 117 118 119 120 121 122 123 124 125 126 127 128 129 130 131 132 133 134 135 136 137 138 139 140 141 142 143 144 145 146 147 148 149 150 151 152 153 154 155 156 157 158 159 160 161 162 163 164 165 166 167 168 169 170 171 172 173 174 175 176 177 178 179 180 181 182 183 184 185 186 187 188 189 190 191 192 193 194 195 196 197 198 199 200 201 202 203 204 205 206 207 208 209 210 211 212 213 214 215 216 217 218 219 220 221 222 223 224 225 226 227 228 229 230 231 232 233 234 235 236 237 238 239 240 241 242 243 244 245 246 247 248 249 250 251 252 253 254 255 256 257 258 259 260 261 262 263 264 265 266 267 268 269 270 271 272 273 274 275 276 277 278 279 280 281 282 283 284 285 286 287 288 289 290 291 292 293 294 295 296 297 298 299 300 301 302 303 304 305 306 307 308 309 310 311 312 313 314 315 316 317 318 319 320 321 322 323 324 325 326 327 328 329 330 331 332 333 334 335 336 337 338 339 340 341 342 343 344 345 346 347 348 349 350 351 352 353 354 355 356 357 358 359 360 361 362 363 364 365 366 367 368 369 370 371 372 373 374 375 376 377 378 379 380 381 382 383 384 385 386 387 388 389 390 391 392 393 394 395 396 397 398 399 400 401 402 403 404 405 406 407 408 409 410 411 412 413 414 415 416 417 418 419 420 421 422 423 424 425 426 427 428 429 430 431 432 433 434 435 436 437 438 439 440 441 442 443 444 445 446 447 448 449 450 451 452 453 454 455 456 457 458 459 460 461 462 463 464 465 466 467 468 469 470 471 472 473 474 475 476 477 478 479 480 481 482 483 484 485 486 487 488 489 490 491 492 493 494 495 496 497 498 499 500 501 502 503 504 505 506 507 508 509 510 511 512 513 514 515 516 517 518 519 520 521 522 523 524 525 526 527 528 529 530 531 532 533 534 535 536 537 538 539 540 541 542 543 544 545 546 547 548 549 550 551 552 553 554 555 556 557 558 559 560 561 562 563 564 565 566 567 568 569 570 571 572 573 574 575 576 577 578 579 580 581 582 583 584 585 586 587 588 589 590 591 592 593 594 595 596 597 598 599 600 601 602 603 604 605 606 607 608 609 610 611 612 613 614 615 616 617 618 619 620 621 622 623 624 625 626 627 628 629 630 631 632 633 634 635 636 637 638 639 640 641 642 643 644 645 646 647 648 649 650 651 652 653 654 655 656 657 658 659 660 661 662 663 664 665 666 667 668 669 670 671 672 673 674 675 676 677 678 679 680 681 682 683 684 685 686 687 688 689 690 691 692 693 694 695 696 697 698 699 700 701 702 703 704 705 706 707 708 709 710 711 712 713 714 715 716 717 718 719 720 721 722 723 724 725 726 727 728 729 730 731 732 733 734 735 736 737 738 739 740 741 742 743 744 745 746 747 748 749 750 751 752 753 754 755 756 757 758 759 760 761 762 763 764 765 766 767 768 769 770 771 772 773 774 775 776 777 778 779 780 781 782 783 784 785 786 787 788 789 790 791 792 793 794 795 796 797 798 799 800 801 802 803 804 805 806 807 808 809 810 811 812 813 814 815 816 817 818 819 820 821 822 823 824 825 826 827 828 829 830 831 832 833 834 835 836 837 838 839 840 841 842 843 844 845 846 847 848 849 850 851 852 853 854 855 856 857 858 859 860 861 862 863 864 865 866 867 868 869 870 871 872 873 874 875 876 877 878 879 880 881 882 883 884 885 886 887 888 889 890 891 892 893 894 895 896 897 898 899 900 901 902 903 904 905 906 907 908 909 910 911 912 913 914 915 916 917 918 919 920 921 922 923 924 925 926 927 928 929 930 931 932 933 934 935 936 937 938 939 940 941 942 943 944 945 946 947 948 949 950 951 952 953 954 955 956 957 958 959 960 961 962 963 964 965 966 967 968 969 970 971 972 973 974 975 976 977 978 979 980 981 982 983 984 985 986 987 988 989 990 991 992 993 994 995 996 997 998 999 1000 1001 1002 1003 1004 1005 1006 1007 1008 1009 1010 1011 1012 1013 1014 1015 1016 1017 1018 1019 1020 1021 1022 1023 1024 1025 1026 1027 1028 1029 1030 1031 1032 1033 1034 1035 1036 1037 1038 1039 1040 1041 1042 1043 1044 1045 1046 1047 1048 1049 1050 1051 1052 1053 1054 1055 1056 1057 1058 1059 1060 1061 1062 1063 1064 1065 1066 1067 1068 1069 1070 1071 1072 1073 1074 1075 1076 1077 1078 1079 1080 1081 1082 1083 1084 1085 1086 1087 1088 1089 1090 1091 1092 1093 1094 1095 1096 1097 1098 1099 1100 1101 1102 1103 1104 1105 1106 1107 1108 1109 1110 1111 1112 1113 1114 1115 1116 1117 1118 1119 1120 1121 1122 1123 1124 1125 1126 1127 1128 1129 1130 1131 1132 1133 1134 1135 1136 1137 1138 1139 1140 1141 1142 1143 1144 1145 1146 1147 1148 1149 1150 1151 1152 1153 1154 1155 1156 1157 1158 1159 1160 1161 1162 1163 1164 1165 1166 1167 1168 1169 1170 1171 1172 1173 1174 1175 1176 1177 1178 1179 1180 1181 1182 1183 1184 1185 1186 1187 1188 1189 1190 1191 1192 1193 1194 1195 1196 1197 1198 1199 1200 1201 1202 1203 1204 1205 1206 1207 1208 1209 1210 1211 1212 1213 1214 1215 1216 1217 1218 1219 1220 1221 1222 1223 1224 1225 1226 1227 1228 1229 1230 1231 1232 1233 1234 1235 1236 1237 1238 1239 1240 1241 1242 1243 1244 1245 1246 1247 1248 1249 1250 1251 1252 1253 1254 1255 1256 1257 1258 1259 1260 1261 1262 1263 1264 1265 1266 1267 1268 1269 1270 1271 1272 1273 1274 1275 1276 1277 1278 1279 1280 1281 1282 1283 1284 1285 1286 1287 1288 1289 1290 1291 1292 1293 1294 1295 1296 1297 1298 1299 1300 1301 1302 1303 1304 1305 1306 1307 1308 1309 1310 1311 1312 1313 1314 1315 1316 1317 1318 1319 1320 1321 1322 1323 1324 1325 1326 1327 1328 1329 1330 1331 1332 1333 1334 1335 1336 1337 1338 1339 1340 1341 1342 1343 1344 1345 1346 1347 1348 1349 1350 1351 1352 1353 1354 1355 1356 1357 1358 1359 1360 1361 1362 1363 1364 1365 1366 1367 1368 1369 1370 1371 1372 1373 1374 1375 1376 1377 1378 1379 1380 1381 1382 1383 1384 1385 1386 1387 1388 1389 1390 1391 1392 1393 1394 1395 1396 1397 1398 1399 1400 1401 1402 1403 1404 1405 1406 1407 1408 1409 1410 1411 1412 1413 1414 1415 1416 1417 1418 1419 1420 1421 1422 1423 1424 1425 1426 1427 1428 1429 1430 1431 1432 1433 1434 1435 1436 1437 1438 1439 1440 1441 1442 1443 1444 1445 1446 1447 1448 1449 1450 1451 1452 1453 1454 1455 1456 1457 1458 1459 1460 1461 1462 1463 1464 1465 1466 1467 1468 1469 1470 1471 1472 1473 1474 1475 1476 1477 1478 1479 1480 1481 1482 1483 1484 1485 1486 1487 1488 1489 1490 1491 1492 1493 1494 1495 1496 1497 1498 1499 1500 1501 1502 1503 1504 1505 1506 1507 1508 1509 1510 1511 1512 1513 1514 1515 1516 1517 1518 1519 1520 1521 1522 1523 1524 1525 1526 1527 1528 1529 1530 1531 1532 1533 1534 1535 1536 1537 1538 1539 1540 1541 1542 1543 1544 1545 1546 1547 1548 1549 1550 1551 1552 1553 1554 1555 1556 1557 1558 1559 1560 1561 1562 1563 1564 1565 1566 1567 1568 1569 1570 1571 1572 1573 1574 1575 1576 1577 1578 1579 1580 1581 1582 1583 1584 1585 1586 1587 1588 1589 1590 1591 1592 1593 1594 1595 1596 1597 1598 1599 1600 1601 1602 1603 1604 1605 1606 1607 1608 1609 1610 1611 1612 1613 1614 1615 1616 1617 1618 1619 1620 1621 1622 1623 1624 1625 1626 1627 1628 1629 1630 1631 1632 1633 1634 1635 1636 1637 1638 1639 1640 1641 1642 1643 1644 1645 1646 1647 1648 1649 1650 1651 1652 1653 1654 1655 1656 1657 1658 1659 1660 1661 1662 1663 1664 1665 1666 1667 1668 1669 1670 1671 1672 1673 1674 1675 1676 1677 1678 1679 1680 1681 1682 1683 1684 1685 1686 1687 1688 1689 1690 1691 1692 1693 1694 1695 1696 1697 1698 1699 1700 1701 1702 1703 1704 1705 1706 1707 1708 1709 1710 1711 1712 1713 1714 1715 1716 1717 1718 1719 1720 1721 1722 1723 1724 1725 1726 1727 1728 1729 1730 1731 1732 1733 1734 1735 1736 1737 1738 1739 1740 1741 1742 1743 1744 1745 1746 1747 1748 1749 1750 1751 1752 1753 1754 1755 1756 1757 1758 1759 1760 1761 1762 1763 1764 1765 1766 1767 1768 1769 1770 1771 1772 1773 1774 1775 1776 1777 1778 1779 1780 1781 1782 1783 1784 1785 1786 1787 1788 1789 1790 1791 1792 1793 1794 1795 1796 1797 1798 1799 1800 1801 1802 1803 1804 1805 1806 1807 1808 1809 1810 1811 1812 1813 1814 1815 1816 1817 1818 1819 1820 1821 1822 1823 1824 1825 1826 1827 1828 1829 1830 1831 1832 1833 1834 1835 1836 1837 1838 1839 1840 1841 1842 1843 1844 1845 1846 1847 1848 1849 1850 1851 1852 1853 1854 1855 1856 1857 1858 1859 1860 1861 1862 1863 1864 1865 1866 1867 1868 1869 1870 1871 1872 1873 1874 1875 1876 1877 1878 1879 1880 1881 1882 1883 1884 1885 1886 1887 1888 1889 1890 1891 1892 1893 1894 1895 1896 1897 1898 1899 1900 1901 1902 1903 1904 1905 1906 1907 1908 1909 1910 1911 1912 1913 1914 1915 1916 1917 1918 1919 1920 1921 1922 1923 1924 1925 1926 1927 1928 1929 1930 1931 1932 1933 1934 1935 1936 1937 1938 1939 1940 1941 1942 1943 1944 1945 1946 1947 1948 1949 1950 1951 1952 1953 1954 1955 1956 1957 1958 1959 1960 1961 1962 1963 1964 1965 1966 1967 1968 1969 1970 1971 1972 1973 1974 1975 1976 1977 1978 1979 1980 1981 1982 1983 1984 1985 1986 1987 1988 1989 1990 1991 1992 1993 1994 1995 1996 1997 1998 1999 2000 2001 2002 2003 2004 2005 2006 2007 2008 2009 2010 2011 2012 2013 2014 2015 2016 2017 2018 2019 2020 2021 2022 2023 2024 2025 2026 2027 2028 2029 2030 2031 2032 2033 2034 2035 2036 2037 2038 2039 2040 2041 2042 2043 2044 2045 2046 2047 2048 2049 2050 2051 2052 2053 2054 2055 2056 2057 2058 2059 2060 2061 2062 2063 2064 2065 2066 2067 2068 2069 2070 2071 2072 2073 2074 2075 2076 2077 2078 2079 2080 2081 2082 2083 2084 2085 2086 2087 2088 2089 2090 2091 2092 2093 2094 2095 2096 2097 2098 2099 2100 2101 2102 2103 2104 2105 2106 2107 2108 2109 2110 2111 2112 2113 2114 2115 2116 2117 2118 2119 2120 2121 2122 2123 2124 2125 2126 2127 2128 2129 2130 2131 2132 2133 2134 2135 2136 2137 2138 2139 2140 2141 2142 2143 2144 2145 2146 2147 2148 2149 2150 2151 2152 2153 2154 2155 2156 2157 2158 2159 2160 2161 2162 2163 2164 2165 2166 2167 2168 2169 2170 2171 2172 2173 2174 2175 2176 2177 2178 2179 2180 2181 2182 2183 2184 2185 2186 2187 2188 2189 2190 2191 2192 2193 2194 2195 2196 2197 2198 2199 2200 2201 2202 2203 2204 2205 2206 2207 2208 2209 2210 2211 2212 2213 2214 2215 2216 2217 2218 2219 2220 2221 2222 2223 2224 2225 2226 2227 2228 2229 2230 2231 2232 2233 2234 2235 2236 2237 2238 2239 2240 2241 2242 2243 2244 2245 2246 2247 2248 2249 2250 2251 2252 2253 2254 2255 2256 2257 2258 2259 2260 2261 2262 2263 2264 2265 2266 2267 2268 2269 2270 2271 2272 2273 2274 2275 2276 2277 2278 2279 2280 2281 2282 2283 2284 2285 2286 2287 2288 2289 2290 2291 2292 2293 2294 2295 2296 2297 2298 2299 2300 2301 2302 2303 2304 2305 2306 2307 2308 2309 2310 2311 2312 2313 2314 2315 2316 2317 2318 2319 2320 2321 2322 2323 2324 2325 2326 2327 2328 2329 2330 2331 2332 2333 2334 2335 2336 2337 2338 2339 2340 2341 2342 2343 2344 2345 2346 2347 2348 2349 2350 2351 2352 2353 2354 2355 2356 2357 2358 2359 2360 2361 2362 2363 2364 2365 2366 2367 2368 2369 2370 2371 2372 2373 2374 2375 2376 2377 2378 2379 2380 2381 2382 2383 2384 2385 2386 2387 2388 2389 2390 2391 2392 2393 2394 2395 2396 2397 2398 2399 2400 2401 2402 2403 2404 2405 2406 2407 2408 2409 2410 2411 2412 2413 2414 2415 2416 2417 2418 2419 2420 2421 2422 2423 2424 2425 2426 2427 2428 2429 2430 2431 2432 2433 2434 2435 2436 2437 2438 2439 2440 2441 2442 2443 2444 2445 2446 2447 2448 2449 2450 2451 2452 2453 2454 2455 2456 2457 2458 2459 2460 2461 2462 2463 2464 2465 2466 2467 2468 2469 2470 2471 2472 2473 2474 2475 2476 2477 2478 2479 2480 2481 2482 2483 2484 2485 2486 2487 2488 2489 2490 2491 2492 2493 2494 2495 2496 2497 2498 2499 2500 2501 2502 2503 2504 2505 2506 2507 2508 2509 2510 2511 2512 2513 2514 2515 2516 2517 2518 2519 2520 2521 2522 2523 2524 2525 2526 2527 2528 2529 2530 2531 2532 2533 2534 2535 2536 2537 2538 2539 2540 2541 2542 2543 2544 2545 2546 2547 2548 2549 2550 2551 2552 2553 2554 2555 2556 2557 2558 2559 2560 2561 2562 2563 2564 2565 2566 2567 2568 2569 2570 2571 2572 2573 2574 2575 2576 2577 2578 2579 2580 2581 2582 2583 2584 2585 2586 2587 2588 2589 2590 2591 2592 2593 2594 2595 2596 2597 2598 2599 2600 2601 2602 2603 2604 2605 2606 2607 2608 2609 2610 2611 2612 2613 2614 2615 2616 2617 2618 2619 2620 2621 2622 2623 2624 2625 2626 2627 2628 2629 2630 2631 2632 2633 2634 2635 2636 2637 2638 2639 2640 2641 2642 2643 2644 2645 2646 2647 2648 2649 2650 2651 2652 2653 2654 2655 2656 2657 2658 2659 2660 2661 2662 2663 2664 2665 2666 2667 2668 2669 2670 2671 2672 2673 2674 2675 2676 2677 2678 2679 2680 2681 2682 2683 2684 2685 2686 2687 2688 2689 2690 2691 2692 2693 2694 2695 2696 2697 2698 2699 2700 2701 2702 2703 2704 2705 2706 2707 2708 2709 2710 2711 2712 2713 2714 2715 2716 2717 2718 2719 2720 2721 2722 2723 2724 2725 2726 2727 2728 2729 2730 2731 2732 2733 2734 2735 2736 2737 2738 2739 2740 2741 2742 2743 2744 2745 2746 2747 2748 2749 2750 2751 2752 2753 2754 2755 2756 2757 2758 2759 2760 2761 2762 2763 2764 2765 2766 2767 2768 2769 2770 2771 2772 2773 2774 2775 2776 2777 2778 2779 2780 2781 2782 2783 2784 2785 2786 2787 2788 2789 2790 2791 2792 2793 2794 2795 2796 2797 2798 2799 2800 2801 2802 2803 2804 2805 2806 2807 2808 2809 2810 2811 2812 2813 2814 2815 2816 2817 2818 2819 2820 2821 2822 2823 2824 2825 2826 2827 2828 2829 2830 2831 2832 2833 2834 2835 2836 2837 2838 2839 2840 2841 2842 2843 2844 2845 2846 2847 2848 2849 2850 2851 2852 2853 2854 2855 2856 2857 2858 2859 2860 2861 2862 2863 2864 2865 2866 2867 2868 2869 2870 2871 2872 2873 2874 2875 2876 2877 2878 2879 2880 2881 2882 2883 2884 2885 2886 2887 2888 2889 2890 2891 2892 2893 2894 2895 2896 2897 2898 2899 2900 2901 2902 2903 2904 2905 2906 2907 2908 2909 2910 2911 2912 2913 2914 2915 2916 2917 2918 2919 2920 2921 2922 2923 2924 2925 2926 2927 2928 2929 2930 2931 2932 2933 2934 2935 2936 2937 2938 2939 2940 2941 2942 2943 2944 2945 2946 2947 2948 2949 2950 2951 2952 2953 2954 2955 2956 2957 2958 2959 2960 2961 2962 2963 2964 2965 2966 2967 2968 2969 2970 2971 2972 2973 2974 2975 2976 2977 2978 2979 2980 2981 2982 2983 2984 2985 2986 2987 2988 2989 2990 2991 2992 2993 2994 2995 2996 2997 2998 2999 3000 3001 3002 3003 3004 3005 3006 3007 3008 3009 3010 3011 3012 3013 3014 3015 3016 3017 3018 3019 3020 3021 3022 3023 3024 3025 3026 3027 3028 3029 3030 3031 3032 3033 3034 3035 3036 3037 3038 3039 3040 3041 3042 3043 3044 3045 3046 3047 3048 3049 3050 3051 3052 3053 3054 3055 3056 3057 3058 3059 3060 3061 3062 3063 3064 3065 3066 3067 3068 3069 3070 3071 3072 3073 3074 3075 3076 3077 3078 3079 3080 3081 3082 3083 3084 3085 3086 3087 3088 3089 3090 3091 3092 3093 3094 3095 3096 3097 3098 3099 3100 3101 3102 3103 3104 3105 3106 3107 3108 3109 3110 3111 3112 3113 3114 3115 3116 3117 3118 3119 3120 3121 3122 3123 3124 3125 3126 3127 3128 3129 3130 3131 3132 3133 3134 3135 3136 3137 3138 3139 3140 3141 3142 3143 3144 3145 3146 3147 3148 3149 3150 3151 3152 3153 3154 3155 3156 3157 3158 3159 3160 3161 3162 3163 3164 3165 3166 3167 3168 3169 3170 3171 3172 3173 3174 3175 3176 3177 3178 3179 3180 3181 3182 3183 3184 3185 3186 3187 3188 3189 3190 3191 3192 3193 3194 3195 3196 3197 3198 3199 3200 3201 3202 3203 3204 3205 3206 3207 3208 3209 3210 3211 3212 3213 3214 3215 3216 3217 3218 3219 3220 3221 3222 3223 3224 3225 3226 3227 3228 3229 3230 3231 3232 3233 3234 3235 3236 3237 3238 3239 3240 3241 3242 3243 3244 3245 3246 3247 3248 3249 3250 3251 3252 3253 3254 3255 3256 3257 3258 3259 3260 3261 3262 3263 3264 3265 3266 3267 3268 3269 3270 3271 3272 3273 3274 3275 3276 3277 3278 3279 3280 3281 3282 3283 3284 3285 3286 3287 3288 3289 3290 3291 3292 3293 3294 3295 3296 3297 3298 3299 3300 3301 3302 3303 3304 3305 3306 3307 3308 3309 3310 3311 3312 3313 3314 3315 3316 3317 3318 3319 3320 3321 3322 3323 3324 3325 3326 3327 3328 3329 3330 3331 3332 3333 3334 3335 3336 3337 3338 3339 3340 3341 3342 3343 3344 3345 3346 3347 3348 3349 3350 3351 3352 3353 3354 3355 3356 3357 3358 3359 3360 3361 3362 3363 3364 3365 3366 3367 3368 3369 3370 3371 3372 3373 3374 3375 3376 3377 3378 3379 3380 3381 3382 3383 3384 3385 3386 3387 3388 3389 3390 3391 3392 3393 3394 3395 3396 "
          ],
          "name": "stdout"
        }
      ]
    },
    {
      "metadata": {
        "id": "hT1SLt0ctMgN",
        "colab_type": "code",
        "outputId": "9ff3a570-de7a-422b-dfbd-83c7b63e594c",
        "colab": {
          "base_uri": "https://localhost:8080/",
          "height": 53
        }
      },
      "cell_type": "code",
      "source": [
        "Y_dev = pad_seq(to_indices_Y(dev_corr_corpus), 48)"
      ],
      "execution_count": 0,
      "outputs": [
        {
          "output_type": "stream",
          "text": [
            "1 2 3 4 5 6 7 8 9 10 11 12 13 14 15 16 17 18 19 20 21 22 23 24 25 26 27 28 29 30 31 32 33 34 35 36 37 38 39 40 41 42 43 44 45 46 47 48 49 50 51 52 53 54 55 56 57 58 59 60 61 62 63 64 65 66 67 68 69 70 71 72 73 74 75 76 77 78 79 80 81 82 83 84 85 86 87 88 89 90 91 92 93 94 95 96 97 98 99 100 101 102 103 104 105 106 107 108 109 110 111 112 113 114 115 116 117 118 119 120 121 122 123 124 125 126 127 128 129 130 131 132 133 134 135 136 137 138 139 140 141 142 143 144 145 146 147 148 149 150 151 152 153 154 155 156 157 158 159 160 161 162 163 164 165 166 167 168 169 170 171 172 173 174 175 176 177 178 179 180 181 182 183 184 185 186 187 188 189 190 191 192 193 194 195 196 197 198 199 200 201 202 203 204 205 206 207 208 209 210 211 212 213 214 215 216 217 218 219 220 221 222 223 224 225 226 227 228 229 230 231 232 233 234 235 236 237 238 239 240 241 242 243 244 245 246 247 248 249 250 251 252 253 254 255 256 257 258 259 260 261 262 263 264 265 266 267 268 269 270 271 272 273 274 275 276 277 278 279 280 281 282 283 284 285 286 287 288 289 290 291 292 293 294 295 296 297 298 299 300 301 302 303 304 305 306 307 308 309 310 311 312 313 314 315 316 317 318 319 320 321 322 323 324 325 326 327 328 329 330 331 332 333 334 335 336 337 338 339 340 341 342 343 344 345 346 347 348 349 350 351 352 353 354 355 356 357 358 359 360 361 362 363 364 365 366 367 368 369 370 371 372 373 374 375 376 377 378 379 380 381 382 383 384 385 386 387 388 389 390 391 392 393 394 395 396 397 398 399 400 401 402 403 404 405 406 407 408 409 410 411 412 413 414 415 416 417 418 419 420 421 422 423 424 425 426 427 428 429 430 431 432 433 434 435 436 437 438 439 440 441 442 443 444 445 446 447 448 449 450 451 452 453 454 455 456 457 458 459 460 461 462 463 464 465 466 467 468 469 470 471 472 473 474 475 476 477 478 479 480 481 482 483 484 485 486 487 488 489 490 491 492 493 494 495 496 497 498 499 500 501 502 503 504 505 506 507 508 509 510 511 512 513 514 515 516 517 518 519 520 521 522 523 524 525 526 527 528 529 530 531 532 533 534 535 536 537 538 539 540 541 542 543 544 545 546 547 548 549 550 551 552 553 554 555 556 557 558 559 560 561 562 563 564 565 566 567 568 569 570 571 572 573 574 575 576 577 578 579 580 581 582 583 584 585 586 587 588 589 590 591 592 593 594 595 596 597 598 599 600 601 602 603 604 605 606 607 608 609 610 611 612 613 614 615 616 617 618 619 620 621 622 623 624 625 626 627 628 629 630 631 632 633 634 635 636 637 638 639 640 641 642 643 644 645 646 647 648 649 650 651 652 653 654 655 656 657 658 659 660 661 662 663 664 665 666 667 668 669 670 671 672 673 674 675 676 677 678 679 680 681 682 683 684 685 686 687 688 689 690 691 692 693 694 695 696 697 698 699 700 701 702 703 704 705 706 707 708 709 710 711 712 713 714 715 716 717 718 719 720 721 722 723 724 725 726 727 728 729 730 731 732 733 734 735 736 737 738 739 740 741 742 743 744 745 746 747 748 749 750 751 752 753 754 755 756 757 758 759 760 761 762 763 764 765 766 767 768 769 770 771 772 773 774 775 776 777 778 779 780 781 782 783 784 785 786 787 788 789 790 791 792 793 794 795 796 797 798 799 800 801 802 803 804 805 806 807 808 809 810 811 812 813 814 815 816 817 818 819 820 821 822 823 824 825 826 827 828 829 830 831 832 833 834 835 836 837 838 839 840 841 842 843 844 845 846 847 848 849 850 851 852 853 854 855 856 857 858 859 860 861 862 863 864 865 866 867 868 869 870 871 872 873 874 875 876 877 878 879 880 881 882 883 884 885 886 887 888 889 890 891 892 893 894 895 896 897 898 899 900 901 902 903 904 905 906 907 908 909 910 911 912 913 914 915 916 917 918 919 920 921 922 923 924 925 926 927 928 929 930 931 932 933 934 935 936 937 938 939 940 941 942 943 944 945 946 947 948 949 950 951 952 953 954 955 956 957 958 959 960 961 962 963 964 965 966 967 968 969 970 971 972 973 974 975 976 977 978 979 980 981 982 983 984 985 986 987 988 989 990 991 992 993 994 995 996 997 998 999 1000 1001 1002 1003 1004 1005 1006 1007 1008 1009 1010 1011 1012 1013 1014 1015 1016 1017 1018 1019 1020 1021 1022 1023 1024 1025 1026 1027 1028 1029 1030 1031 1032 1033 1034 1035 1036 1037 1038 1039 1040 1041 1042 1043 1044 1045 1046 1047 1048 1049 1050 1051 1052 1053 1054 1055 1056 1057 1058 1059 1060 1061 1062 1063 1064 1065 1066 1067 1068 1069 1070 1071 1072 1073 1074 1075 1076 1077 1078 1079 1080 1081 1082 1083 1084 1085 1086 1087 1088 1089 1090 1091 1092 1093 1094 1095 1096 1097 1098 1099 1100 1101 1102 1103 1104 1105 1106 1107 1108 1109 1110 1111 1112 1113 1114 1115 1116 1117 1118 1119 1120 1121 1122 1123 1124 1125 1126 1127 1128 1129 1130 1131 1132 1133 1134 1135 1136 1137 1138 1139 1140 1141 1142 1143 1144 1145 1146 1147 1148 1149 1150 1151 1152 1153 1154 1155 1156 1157 1158 1159 1160 1161 1162 1163 1164 1165 1166 1167 1168 1169 1170 1171 1172 1173 1174 1175 1176 1177 1178 1179 1180 1181 1182 1183 1184 1185 1186 1187 1188 1189 1190 1191 1192 1193 1194 1195 1196 1197 1198 1199 1200 1201 1202 1203 1204 1205 1206 1207 1208 1209 1210 1211 1212 1213 1214 1215 1216 1217 1218 1219 1220 1221 1222 1223 1224 1225 1226 1227 1228 1229 1230 1231 1232 1233 1234 1235 1236 1237 1238 1239 1240 1241 1242 1243 1244 1245 1246 1247 1248 1249 1250 1251 1252 1253 1254 1255 1256 1257 1258 1259 1260 1261 1262 1263 1264 1265 1266 1267 1268 1269 1270 1271 1272 1273 1274 1275 1276 1277 1278 1279 1280 1281 1282 1283 1284 1285 1286 1287 1288 1289 1290 1291 1292 1293 1294 1295 1296 1297 1298 1299 1300 1301 1302 1303 1304 1305 1306 1307 1308 1309 1310 1311 1312 1313 1314 1315 1316 1317 1318 1319 1320 1321 1322 1323 1324 1325 1326 1327 1328 1329 1330 1331 1332 1333 1334 1335 1336 1337 1338 1339 1340 1341 1342 1343 1344 1345 1346 1347 1348 1349 1350 1351 1352 1353 1354 1355 1356 1357 1358 1359 1360 1361 1362 1363 1364 1365 1366 1367 1368 1369 1370 1371 1372 1373 1374 1375 1376 1377 1378 1379 1380 1381 1382 1383 1384 1385 1386 1387 1388 1389 1390 1391 1392 1393 1394 1395 1396 1397 1398 1399 1400 1401 1402 1403 1404 1405 1406 1407 1408 1409 1410 1411 1412 1413 1414 1415 1416 1417 1418 1419 1420 1421 1422 1423 1424 1425 1426 1427 1428 1429 1430 1431 1432 1433 1434 1435 1436 1437 1438 1439 1440 1441 1442 1443 1444 1445 1446 1447 1448 1449 1450 1451 1452 1453 1454 1455 1456 1457 1458 1459 1460 1461 1462 1463 1464 1465 1466 1467 1468 1469 1470 1471 1472 1473 1474 1475 1476 1477 1478 1479 1480 1481 1482 1483 1484 1485 1486 1487 1488 1489 1490 1491 1492 1493 1494 1495 1496 1497 1498 1499 1500 1501 1502 1503 1504 1505 1506 1507 1508 1509 1510 1511 1512 1513 1514 1515 1516 1517 1518 1519 1520 1521 1522 1523 1524 1525 1526 1527 1528 1529 1530 1531 1532 1533 1534 1535 1536 1537 1538 1539 1540 1541 1542 1543 1544 1545 1546 1547 1548 1549 1550 1551 1552 1553 1554 1555 1556 1557 1558 1559 1560 1561 1562 1563 1564 1565 1566 1567 1568 1569 1570 1571 1572 1573 1574 1575 1576 1577 1578 1579 1580 1581 1582 1583 1584 1585 1586 1587 1588 1589 1590 1591 1592 1593 1594 1595 1596 1597 1598 1599 1600 1601 1602 1603 1604 1605 1606 1607 1608 1609 1610 1611 1612 1613 1614 1615 1616 1617 1618 1619 1620 1621 1622 1623 1624 1625 1626 1627 1628 1629 1630 1631 1632 1633 1634 1635 1636 1637 1638 1639 1640 1641 1642 1643 1644 1645 1646 1647 1648 1649 1650 1651 1652 1653 1654 1655 1656 1657 1658 1659 1660 1661 1662 1663 1664 1665 1666 1667 1668 1669 1670 1671 1672 1673 1674 1675 1676 1677 1678 1679 1680 1681 1682 1683 1684 1685 1686 1687 1688 1689 1690 1691 1692 1693 1694 1695 1696 1697 1698 1699 1700 1701 1702 1703 1704 1705 1706 1707 1708 1709 1710 1711 1712 1713 1714 1715 1716 1717 1718 1719 1720 1721 1722 1723 1724 1725 1726 1727 1728 1729 1730 1731 1732 1733 1734 1735 1736 1737 1738 1739 1740 1741 1742 1743 1744 1745 1746 1747 1748 1749 1750 1751 1752 1753 1754 1755 1756 1757 1758 1759 1760 1761 1762 1763 1764 1765 1766 1767 1768 1769 1770 1771 1772 1773 1774 1775 1776 1777 1778 1779 1780 1781 1782 1783 1784 1785 1786 1787 1788 1789 1790 1791 1792 1793 1794 1795 1796 1797 1798 1799 1800 1801 1802 1803 1804 1805 1806 1807 1808 1809 1810 1811 1812 1813 1814 1815 1816 1817 1818 1819 1820 1821 1822 1823 1824 1825 1826 1827 1828 1829 1830 1831 1832 1833 1834 1835 1836 1837 1838 1839 1840 1841 1842 1843 1844 1845 1846 1847 1848 1849 1850 1851 1852 1853 1854 1855 1856 1857 1858 1859 1860 1861 1862 1863 1864 1865 1866 1867 1868 1869 1870 1871 1872 1873 1874 1875 1876 1877 1878 1879 1880 1881 1882 1883 1884 1885 1886 1887 1888 1889 1890 1891 1892 1893 1894 1895 1896 1897 1898 1899 1900 1901 1902 1903 1904 1905 1906 1907 1908 1909 1910 1911 1912 1913 1914 1915 1916 1917 1918 1919 1920 1921 1922 1923 1924 1925 1926 1927 1928 1929 1930 1931 1932 1933 1934 1935 1936 1937 1938 1939 1940 1941 1942 1943 1944 1945 1946 1947 1948 1949 1950 1951 1952 1953 1954 1955 1956 1957 1958 1959 1960 1961 1962 1963 1964 1965 1966 1967 1968 1969 1970 1971 1972 1973 1974 1975 1976 1977 1978 1979 1980 1981 1982 1983 1984 1985 1986 1987 1988 1989 1990 1991 1992 1993 1994 1995 1996 1997 1998 1999 2000 2001 2002 2003 2004 2005 2006 2007 2008 2009 2010 2011 2012 2013 2014 2015 2016 2017 2018 2019 2020 2021 2022 2023 2024 2025 2026 2027 2028 2029 2030 2031 2032 2033 2034 2035 2036 2037 2038 2039 2040 2041 2042 2043 2044 2045 2046 2047 2048 2049 2050 2051 2052 2053 2054 2055 2056 2057 2058 2059 2060 2061 2062 2063 2064 2065 2066 2067 2068 2069 2070 2071 2072 2073 2074 2075 2076 2077 2078 2079 2080 2081 2082 2083 2084 2085 2086 2087 2088 2089 2090 2091 2092 2093 2094 2095 2096 2097 2098 2099 2100 2101 2102 2103 2104 2105 2106 2107 2108 2109 2110 2111 2112 2113 2114 2115 2116 2117 2118 2119 2120 2121 2122 2123 2124 2125 2126 2127 2128 2129 2130 2131 2132 2133 2134 2135 2136 2137 2138 2139 2140 2141 2142 2143 2144 2145 2146 2147 2148 2149 2150 2151 2152 2153 2154 2155 2156 2157 2158 2159 2160 2161 2162 2163 2164 2165 2166 2167 2168 2169 2170 2171 2172 2173 2174 2175 2176 2177 2178 2179 2180 2181 2182 2183 2184 2185 2186 2187 2188 2189 2190 2191 2192 2193 2194 2195 2196 2197 2198 2199 2200 2201 2202 2203 2204 2205 2206 2207 2208 2209 2210 2211 2212 2213 2214 2215 2216 2217 2218 2219 2220 2221 2222 2223 2224 2225 2226 2227 2228 2229 2230 2231 2232 2233 2234 2235 2236 2237 2238 2239 2240 2241 2242 2243 2244 2245 2246 2247 2248 2249 2250 2251 2252 2253 2254 2255 2256 2257 2258 2259 2260 2261 2262 2263 2264 2265 2266 2267 2268 2269 2270 2271 2272 2273 2274 2275 2276 2277 2278 2279 2280 2281 2282 2283 2284 2285 2286 2287 2288 2289 2290 2291 2292 2293 2294 2295 2296 2297 2298 2299 2300 2301 2302 2303 2304 2305 2306 2307 2308 2309 2310 2311 2312 2313 2314 2315 2316 2317 2318 2319 2320 2321 2322 2323 2324 2325 2326 2327 2328 2329 2330 2331 2332 2333 2334 2335 2336 2337 2338 2339 2340 2341 2342 2343 2344 2345 2346 2347 2348 2349 2350 2351 2352 2353 2354 2355 2356 2357 2358 2359 2360 2361 2362 2363 2364 2365 2366 2367 2368 2369 2370 2371 2372 2373 2374 2375 2376 2377 2378 2379 2380 2381 2382 2383 2384 2385 2386 2387 2388 2389 2390 2391 2392 2393 2394 2395 2396 2397 2398 2399 2400 2401 2402 2403 2404 2405 2406 2407 2408 2409 2410 2411 2412 2413 2414 2415 2416 2417 2418 2419 2420 2421 2422 2423 2424 2425 2426 2427 2428 2429 2430 2431 2432 2433 2434 2435 2436 2437 2438 2439 2440 2441 2442 2443 2444 2445 2446 2447 2448 2449 2450 2451 2452 2453 2454 2455 2456 2457 2458 2459 2460 2461 2462 2463 2464 2465 2466 2467 2468 2469 2470 2471 2472 2473 2474 2475 2476 2477 2478 2479 2480 2481 2482 2483 2484 2485 2486 2487 2488 2489 2490 2491 2492 2493 2494 2495 2496 2497 2498 2499 2500 2501 2502 2503 2504 2505 2506 2507 2508 2509 2510 2511 2512 2513 2514 2515 2516 2517 2518 2519 2520 2521 2522 2523 2524 2525 2526 2527 2528 2529 2530 2531 2532 2533 2534 2535 2536 2537 2538 2539 2540 2541 2542 2543 2544 2545 2546 2547 2548 2549 2550 2551 2552 2553 2554 2555 2556 2557 2558 2559 2560 2561 2562 2563 2564 2565 2566 2567 2568 2569 2570 2571 2572 2573 2574 2575 2576 2577 2578 2579 2580 2581 2582 2583 2584 2585 2586 2587 2588 2589 2590 2591 2592 2593 2594 2595 2596 2597 2598 2599 2600 2601 2602 2603 2604 2605 2606 2607 2608 2609 2610 2611 2612 2613 2614 2615 2616 2617 2618 2619 2620 2621 2622 2623 2624 2625 2626 2627 2628 2629 2630 2631 2632 2633 2634 2635 2636 2637 2638 2639 2640 2641 2642 2643 2644 2645 2646 2647 2648 2649 2650 2651 2652 2653 2654 2655 2656 2657 2658 2659 2660 2661 2662 2663 2664 2665 2666 2667 2668 2669 2670 2671 2672 2673 2674 2675 2676 2677 2678 2679 2680 2681 2682 2683 2684 2685 2686 2687 2688 2689 2690 2691 2692 2693 2694 2695 2696 2697 2698 2699 2700 2701 2702 2703 2704 2705 2706 2707 2708 2709 2710 2711 2712 2713 2714 2715 2716 2717 2718 2719 2720 2721 2722 2723 2724 2725 2726 2727 2728 2729 2730 2731 2732 2733 2734 2735 2736 2737 2738 2739 2740 2741 2742 2743 2744 2745 2746 2747 2748 2749 2750 2751 2752 2753 2754 2755 2756 2757 2758 2759 2760 2761 2762 2763 2764 2765 2766 2767 2768 2769 2770 2771 2772 2773 2774 2775 2776 2777 2778 2779 2780 2781 2782 2783 2784 2785 2786 2787 2788 2789 2790 2791 2792 2793 2794 2795 2796 2797 2798 2799 2800 2801 2802 2803 2804 2805 2806 2807 2808 2809 2810 2811 2812 2813 2814 2815 2816 2817 2818 2819 2820 2821 2822 2823 2824 2825 2826 2827 2828 2829 2830 2831 2832 2833 2834 2835 2836 2837 2838 2839 2840 2841 2842 2843 2844 2845 2846 2847 2848 2849 2850 2851 2852 2853 2854 2855 2856 2857 2858 2859 2860 2861 2862 2863 2864 2865 2866 2867 2868 2869 2870 2871 2872 2873 2874 2875 2876 2877 2878 2879 2880 2881 2882 2883 2884 2885 2886 2887 2888 2889 2890 2891 2892 2893 2894 2895 2896 2897 2898 2899 2900 2901 2902 2903 2904 2905 2906 2907 2908 2909 2910 2911 2912 2913 2914 2915 2916 2917 2918 2919 2920 2921 2922 2923 2924 2925 2926 2927 2928 2929 2930 2931 2932 2933 2934 2935 2936 2937 2938 2939 2940 2941 2942 2943 2944 2945 2946 2947 2948 2949 2950 2951 2952 2953 2954 2955 2956 2957 2958 2959 2960 2961 2962 2963 2964 2965 2966 2967 2968 2969 2970 2971 2972 2973 2974 2975 2976 2977 2978 2979 2980 2981 2982 2983 2984 2985 2986 2987 2988 2989 2990 2991 2992 2993 2994 2995 2996 2997 2998 2999 3000 3001 3002 3003 3004 3005 3006 3007 3008 3009 3010 3011 3012 3013 3014 3015 3016 3017 3018 3019 3020 3021 3022 3023 3024 3025 3026 3027 3028 3029 3030 3031 3032 3033 3034 3035 3036 3037 3038 3039 3040 3041 3042 3043 3044 3045 3046 3047 3048 3049 3050 3051 3052 3053 3054 3055 3056 3057 3058 3059 3060 3061 3062 3063 3064 3065 3066 3067 3068 3069 3070 3071 3072 3073 3074 3075 3076 3077 3078 3079 3080 3081 3082 3083 3084 3085 3086 3087 3088 3089 3090 3091 3092 3093 3094 3095 3096 3097 3098 3099 3100 3101 3102 3103 3104 3105 3106 3107 3108 3109 3110 3111 3112 3113 3114 3115 3116 3117 3118 3119 3120 3121 3122 3123 3124 3125 3126 3127 3128 3129 3130 3131 3132 3133 3134 3135 3136 3137 3138 3139 3140 3141 3142 3143 3144 3145 3146 3147 3148 3149 3150 3151 3152 3153 3154 3155 3156 3157 3158 3159 3160 3161 3162 3163 3164 3165 3166 3167 3168 3169 3170 3171 3172 3173 3174 3175 3176 3177 3178 3179 3180 3181 3182 3183 3184 3185 3186 3187 3188 3189 3190 3191 3192 3193 3194 3195 3196 3197 3198 3199 3200 3201 3202 3203 3204 3205 3206 3207 3208 3209 3210 3211 3212 3213 3214 3215 3216 3217 3218 3219 3220 3221 3222 3223 3224 3225 3226 3227 3228 3229 3230 3231 3232 3233 3234 3235 3236 3237 3238 3239 3240 3241 3242 3243 3244 3245 3246 3247 3248 3249 3250 3251 3252 3253 3254 3255 3256 3257 3258 3259 3260 3261 3262 3263 3264 3265 3266 3267 3268 3269 3270 3271 3272 3273 3274 3275 3276 3277 3278 3279 3280 3281 3282 3283 3284 3285 3286 3287 3288 3289 3290 3291 3292 3293 3294 3295 3296 3297 3298 3299 3300 3301 3302 3303 3304 3305 3306 3307 3308 3309 3310 3311 3312 3313 3314 3315 3316 3317 3318 3319 3320 3321 3322 3323 3324 3325 3326 3327 3328 3329 3330 3331 3332 3333 3334 3335 3336 3337 3338 3339 3340 3341 3342 3343 3344 3345 3346 3347 3348 3349 3350 3351 3352 3353 3354 3355 3356 3357 3358 3359 3360 3361 3362 3363 3364 3365 3366 3367 3368 3369 3370 3371 3372 3373 3374 3375 3376 3377 3378 3379 3380 3381 3382 3383 3384 3385 3386 3387 3388 3389 3390 3391 3392 3393 3394 3395 3396 "
          ],
          "name": "stdout"
        }
      ]
    },
    {
      "metadata": {
        "id": "sZALpE9buzgY",
        "colab_type": "code",
        "colab": {}
      },
      "cell_type": "code",
      "source": [
        "np.save('X_train.npy', X_train)"
      ],
      "execution_count": 0,
      "outputs": []
    },
    {
      "metadata": {
        "id": "wHths66ruzjk",
        "colab_type": "code",
        "colab": {}
      },
      "cell_type": "code",
      "source": [
        "np.save('Y_train.npy', Y_train)"
      ],
      "execution_count": 0,
      "outputs": []
    },
    {
      "metadata": {
        "id": "JqrdhV7nuznV",
        "colab_type": "code",
        "colab": {}
      },
      "cell_type": "code",
      "source": [
        "np.save('X_dev.npy', X_dev)"
      ],
      "execution_count": 0,
      "outputs": []
    },
    {
      "metadata": {
        "id": "hTvNJdr_uzcF",
        "colab_type": "code",
        "colab": {}
      },
      "cell_type": "code",
      "source": [
        "np.save('Y_dev.npy', Y_dev)"
      ],
      "execution_count": 0,
      "outputs": []
    },
    {
      "metadata": {
        "id": "WzcoX_0f3YTA",
        "colab_type": "code",
        "outputId": "9c51898d-9d4e-462c-be6c-06cddb1b52e3",
        "colab": {
          "base_uri": "https://localhost:8080/",
          "height": 106
        }
      },
      "cell_type": "code",
      "source": [
        "Y_train[0]"
      ],
      "execution_count": 0,
      "outputs": [
        {
          "output_type": "execute_result",
          "data": {
            "text/plain": [
              "array([  18,  217,   13,    9, 3526,   53, 7269,  121,   22, 8067, 2000,\n",
              "       2648,    4,    3,    0,    0,    0,    0,    0,    0,    0,    0,\n",
              "          0,    0,    0,    0,    0,    0,    0,    0,    0,    0,    0,\n",
              "          0,    0,    0,    0,    0,    0,    0,    0,    0,    0,    0,\n",
              "          0,    0,    0,    0], dtype=int32)"
            ]
          },
          "metadata": {
            "tags": []
          },
          "execution_count": 45
        }
      ]
    },
    {
      "metadata": {
        "id": "Nb0cszjApHHp",
        "colab_type": "text"
      },
      "cell_type": "markdown",
      "source": [
        "# **Embeddings**"
      ]
    },
    {
      "metadata": {
        "id": "j2V5-C6ApQ0g",
        "colab_type": "code",
        "colab": {}
      },
      "cell_type": "code",
      "source": [
        "def get_embedding_layer(vocab, emb_dim=300):\n",
        "  \n",
        "  vocab_len=len(vocab)+1\n",
        "  \n",
        "  emb_matrix=np.zeros((vocab_len,emb_dim))\n",
        "  \n",
        "  for word,index in vocab.items():\n",
        "    if word in [\"#unk#\",\"#start#\",\"#end#\"]:\n",
        "      pass\n",
        "    else:\n",
        "      emb_matrix[index,:]=np.array(nlp(word).vector)\n",
        "   \n",
        "  embedding_layer = Embedding(vocab_len,emb_dim)\n",
        "  embedding_layer.build((None,))\n",
        "  embedding_layer.set_weights([emb_matrix]) \n",
        "  \n",
        "  return embedding_layer"
      ],
      "execution_count": 0,
      "outputs": []
    },
    {
      "metadata": {
        "id": "1KB_HfkZUL-R",
        "colab_type": "text"
      },
      "cell_type": "markdown",
      "source": [
        "#**Attention Model**"
      ]
    },
    {
      "metadata": {
        "id": "2ZDl1r1YUO26",
        "colab_type": "code",
        "colab": {}
      },
      "cell_type": "code",
      "source": [
        "emb_dim=300                             \n",
        "Tx=46\n",
        "Ty=48\n",
        "input_shape=(Tx,)\n",
        "n_a=128\n",
        "n_s=128\n",
        "out_size=(Ty,len(vocab)+1)"
      ],
      "execution_count": 0,
      "outputs": []
    },
    {
      "metadata": {
        "id": "bEhCZlGmY0ms",
        "colab_type": "code",
        "colab": {}
      },
      "cell_type": "code",
      "source": [
        "def attention_step(a,s_prev):\n",
        "  s_prev = repeat(s_prev)\n",
        "  e = concat([a,s_prev])\n",
        "  e = dense1(e)\n",
        "  e = dense2(e)\n",
        "  alpha = activator(e)\n",
        "  context = dot([alpha,a])\n",
        "  \n",
        "  return context\n"
      ],
      "execution_count": 0,
      "outputs": []
    },
    {
      "metadata": {
        "id": "W-3tIQZqY6YU",
        "colab_type": "code",
        "colab": {}
      },
      "cell_type": "code",
      "source": [
        "ost_attention_LSTM=LSTM(n_s,return_state=True,name=\"post_attention_LSTM\")\n",
        "output_layer=Dense(out_size[1],activation=\"softmax\",name=\"output_dense\")\n",
        "embedding_layer=get_embedding_layer(vocab)"
      ],
      "execution_count": 0,
      "outputs": []
    },
    {
      "metadata": {
        "id": "wt9wlOxgofpw",
        "colab_type": "text"
      },
      "cell_type": "markdown",
      "source": [
        "# Seq2Seq **Model**"
      ]
    },
    {
      "metadata": {
        "id": "fMU_0CIFoilF",
        "colab_type": "code",
        "colab": {}
      },
      "cell_type": "code",
      "source": [
        "from __future__ import print_function\n",
        "\n",
        "from keras.models import Model\n",
        "from keras.layers import Bidirectional, LSTM, Dense, Dot, RepeatVector, Concatenate, Permute, Activation, Lambda, Input,Embedding,SpatialDropout1D"
      ],
      "execution_count": 0,
      "outputs": []
    },
    {
      "metadata": {
        "id": "P-jdGMpey958",
        "colab_type": "code",
        "colab": {}
      },
      "cell_type": "code",
      "source": [
        "Tx = 46\n",
        "Ty = 48\n",
        "latent_dim=128\n",
        "num_decoder_tokens = len(vocab)+1"
      ],
      "execution_count": 0,
      "outputs": []
    },
    {
      "metadata": {
        "id": "i2cD-Wr3x4X9",
        "colab_type": "code",
        "colab": {}
      },
      "cell_type": "code",
      "source": [
        "\n",
        "encoder_inputs = Input(shape=(Tx,))\n",
        "embedding_enc1 = get_embedding_layer(vocab)\n",
        "embedding_enc2= embedding_enc1(encoder_inputs)\n",
        "embedding_enc3 = SpatialDropout1D(0.25)(embedding_enc2)\n",
        "  \n",
        "encoder = Bidirectional(LSTM(latent_dim, return_state=True))\n",
        "lstm, forward_h, forward_c, backward_h, backward_c= encoder(embedding_enc3) \n",
        "state_h = Concatenate()([forward_h, backward_h])\n",
        "state_c = Concatenate()([forward_c, backward_c])\n",
        "encoder_states = [state_h, state_c]              #use only hidden states of the encoder\n",
        "\n",
        "decoder_inputs = Input(shape=(None,))               # none has been done as while training, Ty=48 and while sampling Tx=46\n",
        "embedding_dec1 = get_embedding_layer(vocab)\n",
        "embedding_dec2 = embedding_dec1(decoder_inputs)\n",
        "embedding_dec3 = SpatialDropout1D(0.25)(embedding_dec2)                            #this takes time to load .....\n",
        "      \n",
        "\n",
        "decoder_lstm = LSTM(2*latent_dim, return_sequences=True, return_state=True,)\n",
        "decoder_outputs, _, _ = decoder_lstm(embedding_dec3, initial_state=encoder_states)\n",
        "  \n",
        "decoder_dense = Dense(num_decoder_tokens, activation='softmax') \n",
        "decoder_outputs = decoder_dense(decoder_outputs)\n",
        "  \n",
        "\n",
        "  "
      ],
      "execution_count": 0,
      "outputs": []
    },
    {
      "metadata": {
        "id": "pngvcZ6524_k",
        "colab_type": "code",
        "colab": {}
      },
      "cell_type": "code",
      "source": [
        "model = Model([encoder_inputs, decoder_inputs], decoder_outputs)"
      ],
      "execution_count": 0,
      "outputs": []
    },
    {
      "metadata": {
        "id": "tSugM26FjYSt",
        "colab_type": "code",
        "colab": {}
      },
      "cell_type": "code",
      "source": [
        "model.load_weights('drive/My Drive/Copy of 01-04-model-ep004-loss0.421-val_loss1.184.h5')"
      ],
      "execution_count": 0,
      "outputs": []
    },
    {
      "metadata": {
        "id": "3kK-5WnkVpeu",
        "colab_type": "text"
      },
      "cell_type": "markdown",
      "source": [
        "# Compile"
      ]
    },
    {
      "metadata": {
        "id": "CaRj_gwT2Uf7",
        "colab_type": "code",
        "colab": {}
      },
      "cell_type": "code",
      "source": [
        "model.compile(optimizer=\"adam\",loss=\"categorical_crossentropy\",metrics=[\"accuracy\"])"
      ],
      "execution_count": 0,
      "outputs": []
    },
    {
      "metadata": {
        "id": "8lCloNpPBnf9",
        "colab_type": "code",
        "outputId": "a31844f5-3bf8-41d9-ba60-13de8e1fa34b",
        "colab": {
          "base_uri": "https://localhost:8080/",
          "height": 567
        }
      },
      "cell_type": "code",
      "source": [
        "model.summary()"
      ],
      "execution_count": 81,
      "outputs": [
        {
          "output_type": "stream",
          "text": [
            "__________________________________________________________________________________________________\n",
            "Layer (type)                    Output Shape         Param #     Connected to                     \n",
            "==================================================================================================\n",
            "input_5 (InputLayer)            (None, 46)           0                                            \n",
            "__________________________________________________________________________________________________\n",
            "embedding_3 (Embedding)         (None, 46, 300)      5880600     input_5[0][0]                    \n",
            "__________________________________________________________________________________________________\n",
            "input_6 (InputLayer)            (None, None)         0                                            \n",
            "__________________________________________________________________________________________________\n",
            "spatial_dropout1d_3 (SpatialDro (None, 46, 300)      0           embedding_3[0][0]                \n",
            "__________________________________________________________________________________________________\n",
            "embedding_4 (Embedding)         (None, None, 300)    5880600     input_6[0][0]                    \n",
            "__________________________________________________________________________________________________\n",
            "bidirectional_2 (Bidirectional) [(None, 256), (None, 439296      spatial_dropout1d_3[0][0]        \n",
            "__________________________________________________________________________________________________\n",
            "spatial_dropout1d_4 (SpatialDro (None, None, 300)    0           embedding_4[0][0]                \n",
            "__________________________________________________________________________________________________\n",
            "concatenate_3 (Concatenate)     (None, 256)          0           bidirectional_2[0][1]            \n",
            "                                                                 bidirectional_2[0][3]            \n",
            "__________________________________________________________________________________________________\n",
            "concatenate_4 (Concatenate)     (None, 256)          0           bidirectional_2[0][2]            \n",
            "                                                                 bidirectional_2[0][4]            \n",
            "__________________________________________________________________________________________________\n",
            "lstm_4 (LSTM)                   [(None, None, 256),  570368      spatial_dropout1d_4[0][0]        \n",
            "                                                                 concatenate_3[0][0]              \n",
            "                                                                 concatenate_4[0][0]              \n",
            "__________________________________________________________________________________________________\n",
            "dense_2 (Dense)                 (None, None, 19602)  5037714     lstm_4[0][0]                     \n",
            "==================================================================================================\n",
            "Total params: 17,808,578\n",
            "Trainable params: 17,808,578\n",
            "Non-trainable params: 0\n",
            "__________________________________________________________________________________________________\n"
          ],
          "name": "stdout"
        }
      ]
    },
    {
      "metadata": {
        "id": "R5uiO1PaDSrI",
        "colab_type": "code",
        "colab": {}
      },
      "cell_type": "code",
      "source": [
        "from keras.utils import plot_model\n",
        "plot_model(model, to_file='model.png',show_shapes=True)"
      ],
      "execution_count": 0,
      "outputs": []
    },
    {
      "metadata": {
        "id": "TGTv6dgWVkap",
        "colab_type": "code",
        "colab": {}
      },
      "cell_type": "code",
      "source": [
        "train_encoder_X = np.load('train_encoder_in.npy')\n",
        "train_decoder_X = np.load('train_decoder_in.npy')\n",
        "train_decoder_Y = np.load('train_decoder_out.npy')\n",
        "dev_encoder_X = np.load('dev_encoder_in.npy')\n",
        "dev_decoder_X = np.load('dev_decoder_in.npy')\n",
        "dev_decoder_Y = np.load('dev_decoder_out.npy')\n"
      ],
      "execution_count": 0,
      "outputs": []
    },
    {
      "metadata": {
        "id": "WhrE1JDTEwW-",
        "colab_type": "code",
        "outputId": "ef7daf69-b8d7-4d7a-a560-2b1d3d13eb2a",
        "colab": {
          "base_uri": "https://localhost:8080/",
          "height": 33
        }
      },
      "cell_type": "code",
      "source": [
        "train_decoder_X.shape"
      ],
      "execution_count": 83,
      "outputs": [
        {
          "output_type": "execute_result",
          "data": {
            "text/plain": [
              "(34308, 48)"
            ]
          },
          "metadata": {
            "tags": []
          },
          "execution_count": 83
        }
      ]
    },
    {
      "metadata": {
        "id": "nYeh1QwyQrWB",
        "colab_type": "text"
      },
      "cell_type": "markdown",
      "source": [
        "# **Generators**"
      ]
    },
    {
      "metadata": {
        "id": "UIz2PSahXRgy",
        "colab_type": "code",
        "colab": {}
      },
      "cell_type": "code",
      "source": [
        "from keras.utils import to_categorical\n",
        "from keras.utils import Sequence"
      ],
      "execution_count": 0,
      "outputs": []
    },
    {
      "metadata": {
        "id": "1IBBgOw9QuO5",
        "colab_type": "code",
        "colab": {}
      },
      "cell_type": "code",
      "source": [
        "class Generator(Sequence):\n",
        "  def __init__(self, enc_inp, dec_inp, dec_out, batch=6):\n",
        "    self.enc_inp=enc_inp\n",
        "    self.dec_inp=dec_inp\n",
        "    self.dec_out=dec_out\n",
        "    self.batch=batch\n",
        "    \n",
        "    \n",
        "  def __len__(self):\n",
        "    return int(np.floor(len(self.enc_inp) / self.batch))\n",
        "  \n",
        "  def __getitem__(self, index):\n",
        "    enc_inp_batch=self.enc_inp[index*self.batch:(index+1)*self.batch]\n",
        "    dec_inp_batch=self.dec_inp[index*self.batch:(index+1)*self.batch]\n",
        "    dec_out_batch=self.dec_out[index*self.batch:(index+1)*self.batch]\n",
        "\n",
        "    dec_out_batch=to_categorical(dec_out_batch,num_classes=len(vocab)+1)\n",
        "    \n",
        "    return [np.array(enc_inp_batch),np.array(dec_inp_batch)], np.array(dec_out_batch)"
      ],
      "execution_count": 0,
      "outputs": []
    },
    {
      "metadata": {
        "id": "nFbxK1CzY4Ob",
        "colab_type": "code",
        "colab": {}
      },
      "cell_type": "code",
      "source": [
        "training_gen=Generator(train_encoder_X, train_decoder_X, train_decoder_Y, 32)\n",
        "val_gen=Generator(dev_encoder_X, dev_decoder_X, dev_decoder_Y, 32)"
      ],
      "execution_count": 0,
      "outputs": []
    },
    {
      "metadata": {
        "id": "_zWxntswZXKm",
        "colab_type": "text"
      },
      "cell_type": "markdown",
      "source": [
        "# Training"
      ]
    },
    {
      "metadata": {
        "id": "C08YbDkyZR0B",
        "colab_type": "code",
        "colab": {}
      },
      "cell_type": "code",
      "source": [
        "from keras.callbacks import ModelCheckpoint , ReduceLROnPlateau\n",
        "filepath = 'drive/My Drive/weights/GEC/01-04-model-ep{epoch:03d}-loss{loss:.3f}-val_loss{val_loss:.3f}.h5'\n",
        "\n",
        "model_checkpoint = ModelCheckpoint(filepath, monitor='val_loss', verbose=1, save_best_only=True, mode='min')\n"
      ],
      "execution_count": 0,
      "outputs": []
    },
    {
      "metadata": {
        "id": "QJd8ekX_8oMN",
        "colab_type": "code",
        "colab": {}
      },
      "cell_type": "code",
      "source": [
        "learning_rate_reduction = ReduceLROnPlateau(monitor='val_loss', \n",
        "                                            patience=2, \n",
        "                                            verbose=1, \n",
        "                                            factor=0.5, \n",
        "                                            min_lr=0.00001)"
      ],
      "execution_count": 0,
      "outputs": []
    },
    {
      "metadata": {
        "id": "2EF3PJQJazdE",
        "colab_type": "code",
        "outputId": "eced31df-041c-4798-b3e9-4e3be5e374ae",
        "colab": {
          "base_uri": "https://localhost:8080/",
          "height": 453
        }
      },
      "cell_type": "code",
      "source": [
        "history=model.fit_generator(generator=training_gen, \n",
        "                    use_multiprocessing=True,\n",
        "                    verbose=1,\n",
        "                    validation_data=val_gen,\n",
        "                    callbacks= [model_checkpoint,learning_rate_reduction],\n",
        "                    initial_epoch=0,\n",
        "                    epochs=5)"
      ],
      "execution_count": 0,
      "outputs": [
        {
          "output_type": "stream",
          "text": [
            "Epoch 1/5\n",
            "1071/1072 [============================>.] - ETA: 0s - loss: 0.4995 - acc: 0.8827\n",
            "1072/1072 [==============================] - 581s 542ms/step - loss: 0.4995 - acc: 0.8827 - val_loss: 1.1845 - val_acc: 0.8074\n",
            "\n",
            "Epoch 00001: val_loss improved from inf to 1.18453, saving model to drive/My Drive/weights/GEC/01-04-model-ep001-loss0.499-val_loss1.185.h5\n"
          ],
          "name": "stdout"
        },
        {
          "output_type": "stream",
          "text": [
            "/usr/local/lib/python3.6/dist-packages/keras/engine/network.py:877: UserWarning: Layer lstm_2 was passed non-serializable keyword arguments: {'initial_state': [<tf.Tensor 'concatenate_1/concat:0' shape=(?, 256) dtype=float32>, <tf.Tensor 'concatenate_2/concat:0' shape=(?, 256) dtype=float32>]}. They will not be included in the serialized model (and thus will be missing at deserialization time).\n",
            "  '. They will not be included '\n"
          ],
          "name": "stderr"
        },
        {
          "output_type": "stream",
          "text": [
            "Epoch 2/5\n",
            "1072/1072 [==============================] - 584s 545ms/step - loss: 0.4786 - acc: 0.8868 - val_loss: 1.1866 - val_acc: 0.8082\n",
            "\n",
            "Epoch 00002: val_loss did not improve from 1.18453\n",
            "Epoch 3/5\n",
            "1072/1072 [==============================] - 583s 544ms/step - loss: 0.4611 - acc: 0.8901 - val_loss: 1.1909 - val_acc: 0.8078\n",
            "\n",
            "Epoch 00003: val_loss did not improve from 1.18453\n",
            "\n",
            "Epoch 00003: ReduceLROnPlateau reducing learning rate to 0.0005000000237487257.\n",
            "Epoch 4/5\n",
            "1072/1072 [==============================] - 582s 542ms/step - loss: 0.4214 - acc: 0.8990 - val_loss: 1.1838 - val_acc: 0.8093\n",
            "\n",
            "Epoch 00004: val_loss improved from 1.18453 to 1.18382, saving model to drive/My Drive/weights/GEC/01-04-model-ep004-loss0.421-val_loss1.184.h5\n",
            "Epoch 5/5\n",
            "1072/1072 [==============================] - 582s 543ms/step - loss: 0.4070 - acc: 0.9021 - val_loss: 1.1851 - val_acc: 0.8095\n",
            "\n",
            "Epoch 00005: val_loss did not improve from 1.18382\n"
          ],
          "name": "stdout"
        }
      ]
    },
    {
      "metadata": {
        "id": "s0JKrlLQa6Wo",
        "colab_type": "code",
        "colab": {}
      },
      "cell_type": "code",
      "source": [
        ""
      ],
      "execution_count": 0,
      "outputs": []
    },
    {
      "metadata": {
        "id": "eD1p2lCnlCrm",
        "colab_type": "text"
      },
      "cell_type": "markdown",
      "source": [
        "#**Sampling**\n",
        "\n",
        "---\n"
      ]
    },
    {
      "metadata": {
        "id": "EMRAMNz5roE-",
        "colab_type": "code",
        "colab": {}
      },
      "cell_type": "code",
      "source": [
        ""
      ],
      "execution_count": 0,
      "outputs": []
    },
    {
      "metadata": {
        "id": "LoIBxTdjnuKb",
        "colab_type": "code",
        "outputId": "e89fc7ee-abb9-491a-9fa8-4709c913dbfa",
        "colab": {
          "base_uri": "https://localhost:8080/",
          "height": 367
        }
      },
      "cell_type": "code",
      "source": [
        "###### encoder model #######\n",
        "encoder_model=Model(inputs=encoder_inputs,outputs=encoder_states)\n",
        "encoder_model.summary()"
      ],
      "execution_count": 84,
      "outputs": [
        {
          "output_type": "stream",
          "text": [
            "__________________________________________________________________________________________________\n",
            "Layer (type)                    Output Shape         Param #     Connected to                     \n",
            "==================================================================================================\n",
            "input_5 (InputLayer)            (None, 46)           0                                            \n",
            "__________________________________________________________________________________________________\n",
            "embedding_3 (Embedding)         (None, 46, 300)      5880600     input_5[0][0]                    \n",
            "__________________________________________________________________________________________________\n",
            "spatial_dropout1d_3 (SpatialDro (None, 46, 300)      0           embedding_3[0][0]                \n",
            "__________________________________________________________________________________________________\n",
            "bidirectional_2 (Bidirectional) [(None, 256), (None, 439296      spatial_dropout1d_3[0][0]        \n",
            "__________________________________________________________________________________________________\n",
            "concatenate_3 (Concatenate)     (None, 256)          0           bidirectional_2[0][1]            \n",
            "                                                                 bidirectional_2[0][3]            \n",
            "__________________________________________________________________________________________________\n",
            "concatenate_4 (Concatenate)     (None, 256)          0           bidirectional_2[0][2]            \n",
            "                                                                 bidirectional_2[0][4]            \n",
            "==================================================================================================\n",
            "Total params: 6,319,896\n",
            "Trainable params: 6,319,896\n",
            "Non-trainable params: 0\n",
            "__________________________________________________________________________________________________\n"
          ],
          "name": "stdout"
        }
      ]
    },
    {
      "metadata": {
        "id": "0k1Z8tR7r9vd",
        "colab_type": "code",
        "colab": {}
      },
      "cell_type": "code",
      "source": [
        ""
      ],
      "execution_count": 0,
      "outputs": []
    },
    {
      "metadata": {
        "id": "sp049Jokm02S",
        "colab_type": "code",
        "outputId": "1c9bed8b-2616-4674-e501-7ecea9fd66b8",
        "colab": {
          "base_uri": "https://localhost:8080/",
          "height": 367
        }
      },
      "cell_type": "code",
      "source": [
        "input_h=Input(shape=(256,))\n",
        "input_c=Input(shape=(256,))\n",
        "\n",
        "decoder_input_states=[input_h,input_c]\n",
        "\n",
        "dec_emb=embedding_dec1(decoder_inputs)\n",
        "decoder_outputs2,decoder_state_h2,decoder_state_c2=decoder_lstm(dec_emb,initial_state=decoder_input_states)\n",
        "decoder_states2 = [decoder_state_h2, decoder_state_c2]\n",
        "decoder_outputs2=decoder_dense(decoder_outputs2)\n",
        "\n",
        "decoder_model=Model(inputs=[decoder_inputs]+decoder_input_states,outputs=[decoder_outputs2] + decoder_states2)\n",
        "decoder_model.summary()\n",
        "\n"
      ],
      "execution_count": 85,
      "outputs": [
        {
          "output_type": "stream",
          "text": [
            "__________________________________________________________________________________________________\n",
            "Layer (type)                    Output Shape         Param #     Connected to                     \n",
            "==================================================================================================\n",
            "input_6 (InputLayer)            (None, None)         0                                            \n",
            "__________________________________________________________________________________________________\n",
            "embedding_4 (Embedding)         (None, None, 300)    5880600     input_6[0][0]                    \n",
            "__________________________________________________________________________________________________\n",
            "input_7 (InputLayer)            (None, 256)          0                                            \n",
            "__________________________________________________________________________________________________\n",
            "input_8 (InputLayer)            (None, 256)          0                                            \n",
            "__________________________________________________________________________________________________\n",
            "lstm_4 (LSTM)                   [(None, None, 256),  570368      embedding_4[1][0]                \n",
            "                                                                 input_7[0][0]                    \n",
            "                                                                 input_8[0][0]                    \n",
            "__________________________________________________________________________________________________\n",
            "dense_2 (Dense)                 (None, None, 19602)  5037714     lstm_4[1][0]                     \n",
            "==================================================================================================\n",
            "Total params: 11,488,682\n",
            "Trainable params: 11,488,682\n",
            "Non-trainable params: 0\n",
            "__________________________________________________________________________________________________\n"
          ],
          "name": "stdout"
        }
      ]
    },
    {
      "metadata": {
        "id": "u6rGg9YHu0ay",
        "colab_type": "code",
        "colab": {}
      },
      "cell_type": "code",
      "source": [
        "!ls"
      ],
      "execution_count": 0,
      "outputs": []
    },
    {
      "metadata": {
        "id": "dhNxVFMFy_Mf",
        "colab_type": "code",
        "colab": {}
      },
      "cell_type": "code",
      "source": [
        "def predict_sentence(inp_sequence):\n",
        "  \n",
        "  \n",
        "  #print(inp_sequence.shape)\n",
        "  dec_states=encoder_model.predict(inp_sequence)\n",
        "  target_seq=np.zeros((1,1))\n",
        "  target_seq[0,0]=vocab[\"#start#\"]\n",
        "  \n",
        "  \n",
        "  sentence=[]\n",
        "  \n",
        "  while True:\n",
        "    \n",
        "    output_tokens,h,c=decoder_model.predict( [target_seq] + dec_states )\n",
        "    \n",
        "    \n",
        "    index=np.argmax(output_tokens[0,-1,:])\n",
        "    word=new_tokenizer.index_word[index]\n",
        "    \n",
        "    sentence.append(word)\n",
        "    \n",
        "    if word==\"#end#\" or len(sentence)>40:\n",
        "      break\n",
        "      \n",
        "    target_seq[0,0]=index\n",
        "    dec_states=[h,c]\n",
        "  \n",
        "  #print(output_tokens.shape)\n",
        "  return sentence\n",
        "\n"
      ],
      "execution_count": 0,
      "outputs": []
    },
    {
      "metadata": {
        "id": "M-kioXj_NxI8",
        "colab_type": "code",
        "colab": {}
      },
      "cell_type": "code",
      "source": [
        "i=4\n",
        "seq=pad_seq(to_indices_X(train_incorr_corpus[i:i+1]),46)\n",
        "train_incorr_corpus[i:i+1]"
      ],
      "execution_count": 0,
      "outputs": []
    },
    {
      "metadata": {
        "id": "-jta1qxkzf5v",
        "colab_type": "code",
        "outputId": "bba81f71-9570-40fc-db43-db35bc6000ef",
        "colab": {
          "base_uri": "https://localhost:8080/",
          "height": 67
        }
      },
      "cell_type": "code",
      "source": [
        "for i in [3843]:\n",
        "  seq=pad_seq(to_indices_X(train_incorr_corpus[i:i+1]),46)\n",
        "  #print([index_to_word[word] for word in seq[0] if word!=0])\n",
        "  #print(seq)\n",
        "  #seq=seq[0]\n",
        "  #print(seq)\n",
        "  sentence=predict_sentence(seq)\n",
        "  #print(sentence)\n",
        "  \n",
        "  inc_sentence=[new_tokenizer.index_word[j] for j in seq[0] if j!=0]\n",
        "  corr_sentence=[j for j in sentence]\n",
        "  \n",
        "  print()\n",
        "  print(train_incorr_corpus[i:i+1])\n",
        "  print(\"correct sentence:\",\" \".join(corr_sentence))"
      ],
      "execution_count": 88,
      "outputs": [
        {
          "output_type": "stream",
          "text": [
            "1 \n",
            "[\"Particulary I would like to point Mathew McConnahy 's role .\"]\n",
            "correct sentence: in particular , i would like to point out mathew mcconnahy 's role . #end#\n"
          ],
          "name": "stdout"
        }
      ]
    },
    {
      "metadata": {
        "id": "-y7tsI9z0KS9",
        "colab_type": "code",
        "colab": {
          "base_uri": "https://localhost:8080/",
          "height": 33
        },
        "outputId": "e9331701-da58-4dca-aee4-d05dba747c7e"
      },
      "cell_type": "code",
      "source": [
        "train_incorr_corpus[i:i+1]"
      ],
      "execution_count": 59,
      "outputs": [
        {
          "output_type": "execute_result",
          "data": {
            "text/plain": [
              "[\"Particulary I would like to point Mathew McConnahy 's role .\"]"
            ]
          },
          "metadata": {
            "tags": []
          },
          "execution_count": 59
        }
      ]
    },
    {
      "metadata": {
        "id": "bmpZu-2_44Cn",
        "colab_type": "code",
        "colab": {}
      },
      "cell_type": "code",
      "source": [
        ""
      ],
      "execution_count": 0,
      "outputs": []
    }
  ]
}